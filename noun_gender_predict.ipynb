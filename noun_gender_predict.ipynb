{
 "cells": [
  {
   "cell_type": "code",
   "execution_count": 29,
   "id": "a8a20576-1bd0-4faa-b77d-731b4e0bd356",
   "metadata": {
    "tags": []
   },
   "outputs": [],
   "source": [
    "# 2024.10.27\n",
    "# 2024.10.28\n",
    "# 2024.10.29\n",
    "# 2024.10.30\n",
    "# 2024.10.31\n",
    "# 2024.11.01\n",
    "# 2024.11.03"
   ]
  },
  {
   "cell_type": "markdown",
   "id": "7f03a990-b77e-47bd-8c05-1d055cac217c",
   "metadata": {
    "tags": []
   },
   "source": [
    "### Project description"
   ]
  },
  {
   "cell_type": "markdown",
   "id": "204d8cd6-bfef-47aa-ac04-f678b6302b3d",
   "metadata": {
    "tags": []
   },
   "source": [
    "Welcome to my latest project. Here, the goal is to *predict the gender of german nouns* based on their *structural characteristics* with the use of a *machine learning model*.<br>\n",
    "To clarify the work's *raison d'être* (reason for existence), I answer Kipling's Six Honest Questions below. (Descriptions are provided by the built-in AI assistant in Brave's search engine.)\n",
    "- **Who?** - *Identifying the individuals or entities involved in a situation or event.* - This is a solo project, so I am responsible to reach project-goals. I need an entity, that acts as the **source of data** and another which equips me with **up-to-date knowledge**.\n",
    "- **What?** - *Describing the actions, events, or circumstances being observed or experienced.* - widen perspective by reading $n$ articles, **set time constraints** and befriend them, experience from start to finish, **an Aha! moment**, vocabulary increase, born of a tool and/or educational material.\n",
    "- **When?** - *Determining the timing or sequence of events.* - **Research** on the topic (read *articles* on german noun *articles*). Identify the requirements related to the **structure and quantity of data**. Consider different sources, **acquire a dataset** and describe the reason for decision. Define how the data is being **stored and accessed**. Study and try multiple **word-representation** methods. Consider machine-learning solutions to find the most suited for **classification** of datapoints. Describe observations and **conclusions** (performance metrics, linguistic relation). Explain possible **improvements** and **future directions**.\n",
    "- **Where?** - *Locating the the setting or context in which events occur.* - German language learning. Abstract representation of natural language. Application of machine learning solutions. Hobby horse. Portfolio.\n",
    "- **Why?** - *Exploring the reasons or motivations behind actions or events.* - To learn how language can be represented in the area of NLP. To discover unseen relations between words and their articles. To learn the language on the go. To practice retrieving, storing, cleaning and processing data. Zu genießen.\n",
    "- **How?** - *Investigating the methods or processes used to achieve a particular outcome.* - Linux and anaconda environments. Git and GitHub. Python, Bash script and SQL. VSCode, Jupyter Lab."
   ]
  },
  {
   "cell_type": "markdown",
   "id": "0f732122-a7cc-49b7-901f-8b4c5d5f96fe",
   "metadata": {
    "tags": []
   },
   "source": [
    "<div style=\"text-align: center; font-weight: bold; font-size: 1.5em;\">\n",
    "    I Keep Six Honest Serving Men\n",
    "    <br><br>\n",
    "</div>\n",
    "\n",
    "<div style=\"text-align: center; font-style: italic;\">\n",
    "    I KEEP six honest serving-men<br>\n",
    "    (They taught me all I knew);<br>\n",
    "    Their names are What and Why and When<br>\n",
    "    And How and Where and Who.<br>\n",
    "    I send them over land and sea,<br>\n",
    "    I send them east and west;<br>\n",
    "    But after they have worked for me,<br>\n",
    "    I give them all a rest.<br><br>\n",
    "    I let them rest from nine till five,<br>\n",
    "    For I am busy then,<br>\n",
    "    As well as breakfast, lunch, and tea,<br>\n",
    "    For they are hungry men.<br>\n",
    "    But different folk have different views;<br>\n",
    "    I know a person small—<br>\n",
    "    She keeps ten million serving-men,<br>\n",
    "    Who get no rest at all!<br><br>\n",
    "    She sends ’em abroad on her own affairs,<br>\n",
    "    From the second she opens her eyes—<br>\n",
    "    One million Hows, two million Wheres,<br>\n",
    "    And seven million Whys!<br><br>\n",
    "</div>\n",
    "\n",
    "<div style=\"text-align: right; font-weight: bold; font-style: italic;\">\n",
    "    Rudyard Kipling\n",
    "</div>\n"
   ]
  },
  {
   "cell_type": "markdown",
   "id": "29f89cac-05e9-4cf0-86bd-bb891630dc8b",
   "metadata": {
    "jp-MarkdownHeadingCollapsed": true,
    "tags": []
   },
   "source": [
    "### Research on german nouns and their articles"
   ]
  },
  {
   "cell_type": "markdown",
   "id": "4636f640-1fad-452d-85be-00945148f452",
   "metadata": {},
   "source": [
    "Every noun has been assigned a gender: feminine, masculine and neutral.<br>\n",
    "These are the main findings.<br>\n",
    "https://germanwithlaura.com/noun-gender/<br>\n",
    "Following the tips described in this article, german noun genders could be predicted with 80% accuracy.<br>\n",
    "\"Nouns can be lumped together according to: \n",
    "<br>*1.* Noun groups (specific topic groups associated with particular genders) e.g. all months of the year are masculine <br>*2.* Noun forms (specific spelling patterns associated with particular genders) e.g. all nouns ending in -ung are feminine.\"<br>\n",
    "https://www.geeksforgeeks.org/word-embeddings-in-nlp/<br>\n",
    "Word representation in the area of NLP is called word embedding. Examples described in this article.<br>\n",
    "https://www.kaggle.com/code/fkdplc/german-nouns-gender-analysis/notebook<br>\n",
    "There is an attempt to solve the problem described in this very project i.e. pedicting noun genders. The author achieves aroung 80% accuracy using word length and common suffixes as features and a Neural Network as a tool.<br>\n",
    "https://opendata.stackexchange.com/questions/17787/german-nouns<br>\n",
    "Mentions dict.cc which contains about 334k nouns. This will be the source of data."
   ]
  },
  {
   "cell_type": "markdown",
   "id": "698d8acb-0bb5-495f-bc82-c47f3c2c7adc",
   "metadata": {
    "jupyter": {
     "source_hidden": true
    },
    "tags": []
   },
   "source": [
    "**OPTIONAL TO CHECK, the info above filtered from here.**<br>\n",
    "Every noun has been assigned a gender: feminine, masculine and neutral. \n",
    "https://www.thegermanproject.com/german-lessons/nouns<br>\n",
    "The article says that: \"unfortunately, there aren't too many rules that determine which kinds of words will have which genders\".<br>\n",
    "https://germanwithlaura.com/noun-gender/<br>\n",
    "The states in the beginning: \"Well, what if I tell you that there are actually tips and tricks to help you accurately predict the gender of any noun a good 80% of the time?\". Well, if I can predict the genders with 80% accuracy then I want to build a model which tops that. \"...based on... ready for this?... how the word is spelled.\" Oh! Right? I might be creative to represent the spelling of words! \"The gender of almost any German noun is determined by its form - especially *suffixes*, which are little endings such as -at, -ion, -ung, -ig, -um, and more.\" I am telling you that these are features a model could consider!<br>\n",
    "\"Nouns can be lumped together according to: 1. Noun groups (specific topic groups associated with particular genders) e.g. all months of the year are masculine 2. Noun forms (specific spelling patterns associated with particular genders) e.g. all nouns ending in -ung are feminine.\"<br> Is it possible to *cluster words* based on their relation to topics? Is it possible for a model to have a set of word representations where related words have similar representation in a sense (along a feature)? <br> I also realized that spelling is not pronunciation... this makes me optimistic about sufficent information content of word-abstraction.<br>\n",
    "The article lists noun-groups associated with each gender.<br>\n",
    "https://data-dive.com/german-nlp-binary-text-classification-of-reviews-part1/<br>\n",
    "Predict rating/sentiment of a comment. Doctor reviews written in german. It offers to download a notebook and follow along. TF-IDF already mentioned and I feel familiar here.\n",
    " - https://www.nltk.org/ - for dealing with text related tasks. It is an open source and community driven project. *Computational linguistics* using Python.\n",
    " - https://scikit-learn.org/ - To enjoy machine learning. Reading the latest stuff...\n",
    " \n",
    "Note on data cleaning: let it be, because the basic principle is trash-in trash-out.\n",
    " - https://www.geeksforgeeks.org/word-embeddings-in-nlp/ - So basically, this is what I mean by word-representations. \"It allows words with similar meaning to have a similar representation.\"<br>\n",
    " A *sparse matrix* is a matrix in which most of the elements are zero. In contrast, a matrix in which most elements are nonzero called, dense. One-hot encoding is always the first... is it because it is basic?... still, it's hot.<br>\n",
    " Can I understand sentences as documents? TF-IDF can then filter out words like 'is'. There are plenty of it in a sentence but occurs in plenty sentences.\n",
    "\n",
    "Throw out words that does not present additional information/meaning for a model (at least for a simple one).\n",
    "Python map() function to adjust type of elements in a container. \n",
    "TO BE CONTINUED...<br>\n",
    "https://www.kaggle.com/code/fkdplc/german-nouns-gender-analysis/notebook<br>\n",
    "Classified with 80% accuracy based on word length and postfixes.\n",
    "https://opendata.stackexchange.com/questions/17787/german-nouns<br>\n",
    "A comment describes sources of data and that \"... Nominativ, Akkusativ, Dativ, Genitiv! ... It's a long story :D\"<br>\n",
    "Mentions dict.cc which contains about 334k words! The nouns.csv I have has 116k lines for comparison. (I know, I did not mention it before.) It is a big dictionary! It even offers vocabulary practice. A little translator can be put in use on a website. The creator is riding his hobby horse in the name of development.\n",
    "Lemma refers to the canonical form of a word in a non-mathematical context."
   ]
  },
  {
   "cell_type": "markdown",
   "id": "6e8836ff-08c6-44bb-aedd-9136d9f7a58d",
   "metadata": {
    "jp-MarkdownHeadingCollapsed": true,
    "tags": []
   },
   "source": [
    "### Getting data\n",
    "I compressed the code into *clean_data.py*."
   ]
  },
  {
   "cell_type": "markdown",
   "id": "ffec5c4a-ac62-4854-b1d8-56c331f4cad5",
   "metadata": {
    "tags": []
   },
   "source": [
    "#### Requirements\n",
    "24.10.28\n",
    "German nouns with articles. At least *42k words*. Data-table would be **| word | repr. of der/die/das | +plural form |**. (As a plus dataset could be balanced if more words are available - relevant after dataset creation)\n",
    "#### Sources\n",
    "One of the entities providing data is **dict.cc** (https://www.dict.cc/). The creator and maintainer of the site, offers data for personal use and for programming projects which meet GNU general public license (https://www.gnu.org/licenses/gpl-3.0.html). If you want to run the code you have to request your own copy of data from the owner. So, data.\n",
    " - Unicode text, UTF-8 text, with very long lines (307)\n",
    " - How to use *stat* in the shell to display file information? *ls -lh _.txt does the job.*\n",
    " - It is 72 Mbytes big.\n",
    " \n",
    "First I attemt to wrap the data into a 🐼s dataframe.\n",
    "#### Feedback\n",
    "24.10.29 - The source of data is ok. Both it's quality and amount is sufficent for the project.<br>\n",
    "The process of building a data table in the desired form was excitingly cumbersome but pretty straightforward. The code in this section is compressed into *clean_data.py*.<br>\n",
    "No plural form was included."
   ]
  },
  {
   "cell_type": "code",
   "execution_count": 3,
   "id": "5aa9cf0e-bba0-4e6e-aef2-60918b4d3c3f",
   "metadata": {
    "tags": []
   },
   "outputs": [],
   "source": [
    "# Útravaló\n",
    "import numpy as np\n",
    "import pandas as pd\n",
    "from matplotlib import pyplot as plt"
   ]
  },
  {
   "cell_type": "code",
   "execution_count": 1,
   "id": "51bc74dc-e4da-4253-a871-73dd3ff73058",
   "metadata": {
    "tags": []
   },
   "outputs": [
    {
     "name": "stdout",
     "output_type": "stream",
     "text": [
      "The whole dictionary is a line of characters... crazy!\n",
      "Type: <class 'str'>  Size (number of characters): 74507935\n"
     ]
    }
   ],
   "source": [
    "# Open the text file and save it in a Python variable\n",
    "with open('de_en_vocab_data.txt', 'r') as file:\n",
    "    data = file.read()\n",
    "print('The whole dictionary is a line of characters... crazy!')\n",
    "print('Type:', type(data),' Size (number of characters):', len(data))"
   ]
  },
  {
   "cell_type": "code",
   "execution_count": 62,
   "id": "8e6b8792-28f9-4395-a34f-8357f74040fd",
   "metadata": {
    "tags": []
   },
   "outputs": [
    {
     "name": "stdout",
     "output_type": "stream",
     "text": [
      "[47, 32, 65, 102, 105, 58, 104, 88, 0, 50, 82, 66, 43, 307, 50, 33, 60, 65, 36, 34]\n",
      "num_of_tabs | lines_with_that_num_of_tabs\n"
     ]
    },
    {
     "data": {
      "text/plain": [
       "3    53\n",
       "1     8\n",
       "0     2\n",
       "Name: count, dtype: int64"
      ]
     },
     "execution_count": 62,
     "metadata": {},
     "output_type": "execute_result"
    }
   ],
   "source": [
    "# Idea: replace tabs with commas, save the string as a .csv and import that into a pddf with pd.read_csv()\n",
    "# Outcome: split the string into a 2D array along delimiters and create a DataFrame using that.\n",
    "\n",
    "# Examine a part of text.\n",
    "sample = data[:4000]\n",
    "\n",
    "# Count the number of tabs is each line and keep them.\n",
    "# + Check the number of characters in each line\n",
    "tabs = list()\n",
    "lin_len = list()\n",
    "\n",
    "for line in sample.split('\\n'): # splitting string along newlines\n",
    "    tabs.append(line.count('\\t')) # splitting string along tabs\n",
    "    lin_len.append(len(line)) \n",
    "    \n",
    "# Display information\n",
    "print(lin_len[:20])\n",
    "print('num_of_tabs | lines_with_that_num_of_tabs')\n",
    "pd.Series(tabs).value_counts()"
   ]
  },
  {
   "cell_type": "markdown",
   "id": "d2a0275b-2e21-4228-a393-bf0fa7f0e2aa",
   "metadata": {},
   "source": [
    "Lines contain 3 tabs except for 10 of them. Those lines are in the first 4000 characters of the whole string - at the beginning of the document but it does not really matter where they are. Let us get rid of those."
   ]
  },
  {
   "cell_type": "code",
   "execution_count": 11,
   "id": "5f2014fb-9062-4dff-bed0-06a58e033622",
   "metadata": {
    "tags": []
   },
   "outputs": [],
   "source": [
    "# Create a container for holding lines found in data\n",
    "lines = [i for i in data.split('\\n')]\n",
    "\n",
    "# Keep lines which contain 3 tabs\n",
    "lines = [i for i in lines if i.count('\\t') == 3]\n",
    "\n",
    "# Split the lines along tabs. The result is a 2d matrix.\n",
    "data_mat = [i.split('\\t') for i in lines]"
   ]
  },
  {
   "cell_type": "code",
   "execution_count": 12,
   "id": "61e3e1fe-7067-4c94-879a-43701b89c581",
   "metadata": {
    "tags": []
   },
   "outputs": [],
   "source": [
    "# Build a dataframe\n",
    "df = pd.DataFrame(data_mat, columns=['name_it_' + str(i+1) for i in range(4)])"
   ]
  },
  {
   "cell_type": "code",
   "execution_count": 13,
   "id": "886a0bb3-2d71-422c-ac93-f31fbbad4764",
   "metadata": {
    "tags": []
   },
   "outputs": [],
   "source": [
    "# Save the dataframe as a .csv | Eigentlich the rows with 3 tabs.\n",
    "df.to_csv('de_en_vocab.csv', sep='\\t', index=False)"
   ]
  },
  {
   "cell_type": "code",
   "execution_count": 63,
   "id": "1ada6376-1d33-4a39-8be3-1a899b62fb41",
   "metadata": {
    "tags": []
   },
   "outputs": [
    {
     "name": "stdout",
     "output_type": "stream",
     "text": [
      "Number of rows: 1284306\n"
     ]
    },
    {
     "data": {
      "text/html": [
       "<div>\n",
       "<style scoped>\n",
       "    .dataframe tbody tr th:only-of-type {\n",
       "        vertical-align: middle;\n",
       "    }\n",
       "\n",
       "    .dataframe tbody tr th {\n",
       "        vertical-align: top;\n",
       "    }\n",
       "\n",
       "    .dataframe thead th {\n",
       "        text-align: right;\n",
       "    }\n",
       "</style>\n",
       "<table border=\"1\" class=\"dataframe\">\n",
       "  <thead>\n",
       "    <tr style=\"text-align: right;\">\n",
       "      <th></th>\n",
       "      <th>name_it_1</th>\n",
       "      <th>name_it_2</th>\n",
       "      <th>name_it_3</th>\n",
       "      <th>name_it_4</th>\n",
       "    </tr>\n",
       "  </thead>\n",
       "  <tbody>\n",
       "    <tr>\n",
       "      <th>0</th>\n",
       "      <td>&amp;#945;-Keratin {n}</td>\n",
       "      <td>&amp;#945;-keratin</td>\n",
       "      <td>noun</td>\n",
       "      <td>[biochem.]</td>\n",
       "    </tr>\n",
       "    <tr>\n",
       "      <th>1</th>\n",
       "      <td>&amp;#945;-Lactalbumin {n} &lt;&amp;#945;-La&gt;</td>\n",
       "      <td>&amp;#945;-lactalbumin &lt;&amp;#945;-La&gt;</td>\n",
       "      <td>noun</td>\n",
       "      <td>[biochem.]</td>\n",
       "    </tr>\n",
       "    <tr>\n",
       "      <th>2</th>\n",
       "      <td>&amp;#946;-Mercaptoethanol {n}</td>\n",
       "      <td>&amp;#946;-mercaptoethanol</td>\n",
       "      <td>noun</td>\n",
       "      <td>[biochem.]</td>\n",
       "    </tr>\n",
       "    <tr>\n",
       "      <th>3</th>\n",
       "      <td>&amp; Co.</td>\n",
       "      <td>and company &lt;&amp; Co.&gt;</td>\n",
       "      <td></td>\n",
       "      <td>[comm.] [econ.]</td>\n",
       "    </tr>\n",
       "    <tr>\n",
       "      <th>4</th>\n",
       "      <td>'Die' heißt mein Unterrock, und 'der' hängt im...</td>\n",
       "      <td>'She' is the cat's mother. [used to encourage ...</td>\n",
       "      <td></td>\n",
       "      <td>[idiom]</td>\n",
       "    </tr>\n",
       "  </tbody>\n",
       "</table>\n",
       "</div>"
      ],
      "text/plain": [
       "                                           name_it_1  \\\n",
       "0                                 &#945;-Keratin {n}   \n",
       "1                 &#945;-Lactalbumin {n} <&#945;-La>   \n",
       "2                         &#946;-Mercaptoethanol {n}   \n",
       "3                                              & Co.   \n",
       "4  'Die' heißt mein Unterrock, und 'der' hängt im...   \n",
       "\n",
       "                                           name_it_2 name_it_3  \\\n",
       "0                                     &#945;-keratin      noun   \n",
       "1                     &#945;-lactalbumin <&#945;-La>      noun   \n",
       "2                             &#946;-mercaptoethanol      noun   \n",
       "3                                and company <& Co.>             \n",
       "4  'She' is the cat's mother. [used to encourage ...             \n",
       "\n",
       "          name_it_4  \n",
       "0       [biochem.]   \n",
       "1       [biochem.]   \n",
       "2       [biochem.]   \n",
       "3  [comm.] [econ.]   \n",
       "4          [idiom]   "
      ]
     },
     "execution_count": 63,
     "metadata": {},
     "output_type": "execute_result"
    }
   ],
   "source": [
    "# Display the first few rows.\n",
    "# Hübsch isn't it?\n",
    "print(f'Number of rows: {df.shape[0]}')\n",
    "df.head(5)\n"
   ]
  },
  {
   "cell_type": "code",
   "execution_count": 64,
   "id": "b9b10d9e-758a-4ab5-8572-f4f961570c5b",
   "metadata": {
    "tags": []
   },
   "outputs": [
    {
     "name": "stdout",
     "output_type": "stream",
     "text": [
      "Number of unique values: 61\n"
     ]
    },
    {
     "data": {
      "image/png": "[encoded data removed]",
      "text/plain": [
       "<Figure size 1000x300 with 1 Axes>"
      ]
     },
     "metadata": {},
     "output_type": "display_data"
    }
   ],
   "source": [
    "# Check out the distribution of part of speeches.\n",
    "sample_col = df['name_it_3']\n",
    "print(f'Number of unique values: {np.unique(sample_col).size}')\n",
    "fig, axes = plt.subplots(figsize=(10, 3))\n",
    "plt.yscale('log')\n",
    "plt.xticks(rotation=45)\n",
    "axes.hist(sample_col, bins=np.unique(sample_col).size);\n",
    "plt.show()"
   ]
  },
  {
   "cell_type": "markdown",
   "id": "881121df-a451-445b-8201-ed76aae4cc95",
   "metadata": {},
   "source": [
    "Clearly the third column describes the *part of speech*. The visual could be polished, but it is visible that the most pupulated (note the logarithmic scale of the y axis) type is *noun* - which we need in this case to use it as a filter for words."
   ]
  },
  {
   "cell_type": "code",
   "execution_count": 17,
   "id": "1dbd68b7-ecba-44fb-bb1d-76cc1208b653",
   "metadata": {
    "tags": []
   },
   "outputs": [
    {
     "name": "stdout",
     "output_type": "stream",
     "text": [
      "901269.0\n"
     ]
    },
    {
     "data": {
      "text/html": [
       "<div>\n",
       "<style scoped>\n",
       "    .dataframe tbody tr th:only-of-type {\n",
       "        vertical-align: middle;\n",
       "    }\n",
       "\n",
       "    .dataframe tbody tr th {\n",
       "        vertical-align: top;\n",
       "    }\n",
       "\n",
       "    .dataframe thead th {\n",
       "        text-align: right;\n",
       "    }\n",
       "</style>\n",
       "<table border=\"1\" class=\"dataframe\">\n",
       "  <thead>\n",
       "    <tr style=\"text-align: right;\">\n",
       "      <th></th>\n",
       "      <th>german</th>\n",
       "      <th>english</th>\n",
       "      <th>part_of_speech</th>\n",
       "      <th>der_Bereich</th>\n",
       "    </tr>\n",
       "  </thead>\n",
       "  <tbody>\n",
       "    <tr>\n",
       "      <th>0</th>\n",
       "      <td>&amp;#945;-Keratin {n}</td>\n",
       "      <td>&amp;#945;-keratin</td>\n",
       "      <td>noun</td>\n",
       "      <td>[biochem.]</td>\n",
       "    </tr>\n",
       "    <tr>\n",
       "      <th>1</th>\n",
       "      <td>&amp;#945;-Lactalbumin {n} &lt;&amp;#945;-La&gt;</td>\n",
       "      <td>&amp;#945;-lactalbumin &lt;&amp;#945;-La&gt;</td>\n",
       "      <td>noun</td>\n",
       "      <td>[biochem.]</td>\n",
       "    </tr>\n",
       "    <tr>\n",
       "      <th>2</th>\n",
       "      <td>&amp;#946;-Mercaptoethanol {n}</td>\n",
       "      <td>&amp;#946;-mercaptoethanol</td>\n",
       "      <td>noun</td>\n",
       "      <td>[biochem.]</td>\n",
       "    </tr>\n",
       "    <tr>\n",
       "      <th>7</th>\n",
       "      <td>'Nduja {f} [auch: Nduja]</td>\n",
       "      <td>'nduja [also: nduja]</td>\n",
       "      <td>noun</td>\n",
       "      <td>[gastr.]</td>\n",
       "    </tr>\n",
       "    <tr>\n",
       "      <th>23</th>\n",
       "      <td>(4) Vesta {f}</td>\n",
       "      <td>(4) Vesta [asteroid]</td>\n",
       "      <td>noun</td>\n",
       "      <td>[astron.]</td>\n",
       "    </tr>\n",
       "  </tbody>\n",
       "</table>\n",
       "</div>"
      ],
      "text/plain": [
       "                                german                         english  \\\n",
       "0                   &#945;-Keratin {n}                  &#945;-keratin   \n",
       "1   &#945;-Lactalbumin {n} <&#945;-La>  &#945;-lactalbumin <&#945;-La>   \n",
       "2           &#946;-Mercaptoethanol {n}          &#946;-mercaptoethanol   \n",
       "7             'Nduja {f} [auch: Nduja]            'nduja [also: nduja]   \n",
       "23                       (4) Vesta {f}            (4) Vesta [asteroid]   \n",
       "\n",
       "   part_of_speech  der_Bereich  \n",
       "0            noun  [biochem.]   \n",
       "1            noun  [biochem.]   \n",
       "2            noun  [biochem.]   \n",
       "7            noun    [gastr.]   \n",
       "23           noun   [astron.]   "
      ]
     },
     "execution_count": 17,
     "metadata": {},
     "output_type": "execute_result"
    }
   ],
   "source": [
    "# Create a new dataframe which contain nouns\n",
    "df_noun = df[df['name_it_3'] == 'noun']\n",
    "\n",
    "# Rename the third column as it is now clear.\n",
    "# Rename other columns as I understand. 19:11 on 10.28.24\n",
    "df_noun = df_noun.rename(columns={'name_it_3' : 'part_of_speech', 'name_it_1' : 'german', 'name_it_2' : 'english', 'name_it_4' : 'der_Bereich'})\n",
    "print(df_noun.size/4) # number of entries\n",
    "df_noun.head(5)"
   ]
  },
  {
   "cell_type": "code",
   "execution_count": 18,
   "id": "e1020e75-0d9f-465d-9214-48b7a96f07e6",
   "metadata": {
    "tags": []
   },
   "outputs": [
    {
     "name": "stdout",
     "output_type": "stream",
     "text": [
      "&#945;-Keratin {n}\n",
      "&#945;-Lactalbumin {n} <&#945;-La>\n",
      "&#946;-Mercaptoethanol {n}\n",
      "'Nduja {f} [auch: Nduja]\n",
      "(4) Vesta {f}\n",
      "(3122) Florence [Substantiv ohne Artikel] [ersatzweise: der Asteroid (3122) Florence]\n",
      "(3200) Phaethon {m}\n",
      "(90377) Sedna {f} {m}\n",
      "(101955) Bennu [Substantiv ohne Artikel] [ersatzweise: der Asteroid (101955) Bennu]\n",
      "(136108) Haumea {f}\n"
     ]
    }
   ],
   "source": [
    "# Ziel: Just one word and a pronoun\n",
    "# Outcome: A convenient pattern emerged.\n",
    "count = 0\n",
    "for i in df_noun['german']:\n",
    "    print(i)\n",
    "    count += 1\n",
    "    if count >= 10:\n",
    "        break"
   ]
  },
  {
   "cell_type": "markdown",
   "id": "4e7e194c-ba09-4c7f-8244-88eb37aa8af2",
   "metadata": {},
   "source": [
    "After examining the first 10k lines, it is clear that *plenty* nouns are in the form of string that contains: 1 upper case character, $n$ number of consequent lower case characters, a space, one of 'm', 'f' and 'n' characters in curly brackets e.g. 'Verantwortung {f}'"
   ]
  },
  {
   "cell_type": "code",
   "execution_count": 19,
   "id": "b9bedada-d428-4392-b7b3-0f9cfa99aee5",
   "metadata": {
    "tags": []
   },
   "outputs": [
    {
     "name": "stdout",
     "output_type": "stream",
     "text": [
      "Type: <class 'str'>\n",
      "There is!\n",
      "Type: <class 'str'>\n",
      "There is!\n",
      "Type: <class 'str'>\n",
      "There is!\n"
     ]
    }
   ],
   "source": [
    "# Let us find the abovementioned word.\n",
    "# Three times in a row!\n",
    "for noun in df_noun['german']:\n",
    "    if noun == 'Verantwortung {f}':\n",
    "        print('Type:', type(noun))\n",
    "        print('There is!')"
   ]
  },
  {
   "cell_type": "code",
   "execution_count": 21,
   "id": "e73bece3-95e5-4b6e-bda2-2dc019a3cdbb",
   "metadata": {
    "tags": []
   },
   "outputs": [
    {
     "name": "stdout",
     "output_type": "stream",
     "text": [
      "Number of entries: 394760\n"
     ]
    },
    {
     "data": {
      "text/html": [
       "<div>\n",
       "<style scoped>\n",
       "    .dataframe tbody tr th:only-of-type {\n",
       "        vertical-align: middle;\n",
       "    }\n",
       "\n",
       "    .dataframe tbody tr th {\n",
       "        vertical-align: top;\n",
       "    }\n",
       "\n",
       "    .dataframe thead th {\n",
       "        text-align: right;\n",
       "    }\n",
       "</style>\n",
       "<table border=\"1\" class=\"dataframe\">\n",
       "  <thead>\n",
       "    <tr style=\"text-align: right;\">\n",
       "      <th></th>\n",
       "      <th>german</th>\n",
       "      <th>english</th>\n",
       "      <th>part_of_speech</th>\n",
       "      <th>der_Bereich</th>\n",
       "    </tr>\n",
       "  </thead>\n",
       "  <tbody>\n",
       "    <tr>\n",
       "      <th>8788</th>\n",
       "      <td>Aachen {n}</td>\n",
       "      <td>Aachen</td>\n",
       "      <td>noun</td>\n",
       "      <td>[geogr.]</td>\n",
       "    </tr>\n",
       "    <tr>\n",
       "      <th>8789</th>\n",
       "      <td>Aachen {n}</td>\n",
       "      <td>Aix-la-Chapelle</td>\n",
       "      <td>noun</td>\n",
       "      <td>[geogr.]</td>\n",
       "    </tr>\n",
       "    <tr>\n",
       "      <th>8799</th>\n",
       "      <td>Aakerbeere {f}</td>\n",
       "      <td>Arctic raspberry [Rubus arcticus]</td>\n",
       "      <td>noun</td>\n",
       "      <td>[bot.] [T]</td>\n",
       "    </tr>\n",
       "    <tr>\n",
       "      <th>8804</th>\n",
       "      <td>Aalabstieg {m}</td>\n",
       "      <td>downstream eel migration</td>\n",
       "      <td>noun</td>\n",
       "      <td>[biol.] [fish]</td>\n",
       "    </tr>\n",
       "    <tr>\n",
       "      <th>8805</th>\n",
       "      <td>Aalangeln {n}</td>\n",
       "      <td>sniggling eels</td>\n",
       "      <td>noun</td>\n",
       "      <td>[fish]</td>\n",
       "    </tr>\n",
       "    <tr>\n",
       "      <th>...</th>\n",
       "      <td>...</td>\n",
       "      <td>...</td>\n",
       "      <td>...</td>\n",
       "      <td>...</td>\n",
       "    </tr>\n",
       "    <tr>\n",
       "      <th>9350</th>\n",
       "      <td>Abbauort {m}</td>\n",
       "      <td>stope</td>\n",
       "      <td>noun</td>\n",
       "      <td>[mining]</td>\n",
       "    </tr>\n",
       "    <tr>\n",
       "      <th>9351</th>\n",
       "      <td>Abbauprodukt {n}</td>\n",
       "      <td>breakdown product</td>\n",
       "      <td>noun</td>\n",
       "      <td>[biochem.] [chem.]</td>\n",
       "    </tr>\n",
       "    <tr>\n",
       "      <th>9352</th>\n",
       "      <td>Abbauprodukt {n}</td>\n",
       "      <td>by-product</td>\n",
       "      <td>noun</td>\n",
       "      <td>[chem.]</td>\n",
       "    </tr>\n",
       "    <tr>\n",
       "      <th>9353</th>\n",
       "      <td>Abbauprodukt {n}</td>\n",
       "      <td>decomposition product</td>\n",
       "      <td>noun</td>\n",
       "      <td>[chem.]</td>\n",
       "    </tr>\n",
       "    <tr>\n",
       "      <th>9354</th>\n",
       "      <td>Abbauprodukt {n}</td>\n",
       "      <td>degradation product</td>\n",
       "      <td>noun</td>\n",
       "      <td>[ecol.]</td>\n",
       "    </tr>\n",
       "  </tbody>\n",
       "</table>\n",
       "<p>200 rows × 4 columns</p>\n",
       "</div>"
      ],
      "text/plain": [
       "                german                            english part_of_speech  \\\n",
       "8788        Aachen {n}                             Aachen           noun   \n",
       "8789        Aachen {n}                    Aix-la-Chapelle           noun   \n",
       "8799    Aakerbeere {f}  Arctic raspberry [Rubus arcticus]           noun   \n",
       "8804    Aalabstieg {m}           downstream eel migration           noun   \n",
       "8805     Aalangeln {n}                     sniggling eels           noun   \n",
       "...                ...                                ...            ...   \n",
       "9350      Abbauort {m}                              stope           noun   \n",
       "9351  Abbauprodukt {n}                  breakdown product           noun   \n",
       "9352  Abbauprodukt {n}                         by-product           noun   \n",
       "9353  Abbauprodukt {n}              decomposition product           noun   \n",
       "9354  Abbauprodukt {n}                degradation product           noun   \n",
       "\n",
       "              der_Bereich  \n",
       "8788            [geogr.]   \n",
       "8789            [geogr.]   \n",
       "8799          [bot.] [T]   \n",
       "8804      [biol.] [fish]   \n",
       "8805              [fish]   \n",
       "...                   ...  \n",
       "9350            [mining]   \n",
       "9351  [biochem.] [chem.]   \n",
       "9352             [chem.]   \n",
       "9353             [chem.]   \n",
       "9354             [ecol.]   \n",
       "\n",
       "[200 rows x 4 columns]"
      ]
     },
     "execution_count": 21,
     "metadata": {},
     "output_type": "execute_result"
    }
   ],
   "source": [
    "# Filter the column where this pattern occurs: <upper_case_letter>, <n_number_of_lowe_case_letters>, <a_space>, <open_curly_bracket>, <either m, f or n>, <close_curly bracket>\n",
    "# *entering this to ChatGPT*\n",
    "# Learning str.match() and the pattern to match.\n",
    "pattern = r\"^[A-Z][a-z]+\\s\\{[mfn]\\}$\"\n",
    "# Filter the data based on pattern.\n",
    "df_filt = df_noun[df_noun['german'].str.match(pattern)]\n",
    "print(f'Number of entries: {df_filt.shape[0]}')\n",
    "df_filt.head(200)"
   ]
  },
  {
   "cell_type": "code",
   "execution_count": 58,
   "id": "4314a476-a730-420e-875d-10acb9264fff",
   "metadata": {},
   "outputs": [
    {
     "name": "stdout",
     "output_type": "stream",
     "text": [
      "Final size: 253715\n"
     ]
    },
    {
     "data": {
      "text/html": [
       "<div>\n",
       "<style scoped>\n",
       "    .dataframe tbody tr th:only-of-type {\n",
       "        vertical-align: middle;\n",
       "    }\n",
       "\n",
       "    .dataframe tbody tr th {\n",
       "        vertical-align: top;\n",
       "    }\n",
       "\n",
       "    .dataframe thead th {\n",
       "        text-align: right;\n",
       "    }\n",
       "</style>\n",
       "<table border=\"1\" class=\"dataframe\">\n",
       "  <thead>\n",
       "    <tr style=\"text-align: right;\">\n",
       "      <th></th>\n",
       "      <th>german</th>\n",
       "      <th>english</th>\n",
       "      <th>part_of_speech</th>\n",
       "      <th>der_Bereich</th>\n",
       "    </tr>\n",
       "  </thead>\n",
       "  <tbody>\n",
       "    <tr>\n",
       "      <th>8788</th>\n",
       "      <td>Aachen {n}</td>\n",
       "      <td>Aachen</td>\n",
       "      <td>noun</td>\n",
       "      <td>[geogr.]</td>\n",
       "    </tr>\n",
       "    <tr>\n",
       "      <th>8799</th>\n",
       "      <td>Aakerbeere {f}</td>\n",
       "      <td>Arctic raspberry [Rubus arcticus]</td>\n",
       "      <td>noun</td>\n",
       "      <td>[bot.] [T]</td>\n",
       "    </tr>\n",
       "    <tr>\n",
       "      <th>8804</th>\n",
       "      <td>Aalabstieg {m}</td>\n",
       "      <td>downstream eel migration</td>\n",
       "      <td>noun</td>\n",
       "      <td>[biol.] [fish]</td>\n",
       "    </tr>\n",
       "    <tr>\n",
       "      <th>8805</th>\n",
       "      <td>Aalangeln {n}</td>\n",
       "      <td>sniggling eels</td>\n",
       "      <td>noun</td>\n",
       "      <td>[fish]</td>\n",
       "    </tr>\n",
       "    <tr>\n",
       "      <th>8810</th>\n",
       "      <td>Aalart {f}</td>\n",
       "      <td>eel species</td>\n",
       "      <td>noun</td>\n",
       "      <td>[fish]</td>\n",
       "    </tr>\n",
       "    <tr>\n",
       "      <th>...</th>\n",
       "      <td>...</td>\n",
       "      <td>...</td>\n",
       "      <td>...</td>\n",
       "      <td>...</td>\n",
       "    </tr>\n",
       "    <tr>\n",
       "      <th>9654</th>\n",
       "      <td>Abbildungsrand {m}</td>\n",
       "      <td>edge of the image</td>\n",
       "      <td>noun</td>\n",
       "      <td></td>\n",
       "    </tr>\n",
       "    <tr>\n",
       "      <th>9655</th>\n",
       "      <td>Abbildungsregister {n}</td>\n",
       "      <td>image register</td>\n",
       "      <td>noun</td>\n",
       "      <td></td>\n",
       "    </tr>\n",
       "    <tr>\n",
       "      <th>9656</th>\n",
       "      <td>Abbildungssatz {m}</td>\n",
       "      <td>mapping theorem</td>\n",
       "      <td>noun</td>\n",
       "      <td>[math.]</td>\n",
       "    </tr>\n",
       "    <tr>\n",
       "      <th>9659</th>\n",
       "      <td>Abbildungsspeicherung {f}</td>\n",
       "      <td>image storage</td>\n",
       "      <td>noun</td>\n",
       "      <td></td>\n",
       "    </tr>\n",
       "    <tr>\n",
       "      <th>9660</th>\n",
       "      <td>Abbildungssystem {n}</td>\n",
       "      <td>imaging system</td>\n",
       "      <td>noun</td>\n",
       "      <td>[MedTech.]</td>\n",
       "    </tr>\n",
       "  </tbody>\n",
       "</table>\n",
       "<p>200 rows × 4 columns</p>\n",
       "</div>"
      ],
      "text/plain": [
       "                         german                            english  \\\n",
       "8788                 Aachen {n}                             Aachen   \n",
       "8799             Aakerbeere {f}  Arctic raspberry [Rubus arcticus]   \n",
       "8804             Aalabstieg {m}           downstream eel migration   \n",
       "8805              Aalangeln {n}                     sniggling eels   \n",
       "8810                 Aalart {f}                        eel species   \n",
       "...                         ...                                ...   \n",
       "9654         Abbildungsrand {m}                  edge of the image   \n",
       "9655     Abbildungsregister {n}                     image register   \n",
       "9656         Abbildungssatz {m}                    mapping theorem   \n",
       "9659  Abbildungsspeicherung {f}                      image storage   \n",
       "9660       Abbildungssystem {n}                     imaging system   \n",
       "\n",
       "     part_of_speech      der_Bereich  \n",
       "8788           noun        [geogr.]   \n",
       "8799           noun      [bot.] [T]   \n",
       "8804           noun  [biol.] [fish]   \n",
       "8805           noun          [fish]   \n",
       "8810           noun          [fish]   \n",
       "...             ...              ...  \n",
       "9654           noun                   \n",
       "9655           noun                   \n",
       "9656           noun         [math.]   \n",
       "9659           noun                   \n",
       "9660           noun      [MedTech.]   \n",
       "\n",
       "[200 rows x 4 columns]"
      ]
     },
     "execution_count": 58,
     "metadata": {},
     "output_type": "execute_result"
    }
   ],
   "source": [
    "# It is clear that there are multiple occurences of certain strings, so filter for unique elements.\n",
    "# This is how a pro blackboxer gets rid of 'duplicates'... isn't Verantvortung... I mean, DIE Verantvortung a triplicate?\n",
    "df_filt = df_filt.drop_duplicates(subset=['german'])\n",
    "print(f\"Final size: {df_filt['german'].unique().size}\")\n",
    "df_filt.head(200)"
   ]
  },
  {
   "cell_type": "code",
   "execution_count": 65,
   "id": "c32193d3",
   "metadata": {},
   "outputs": [
    {
     "data": {
      "text/html": [
       "<div>\n",
       "<style scoped>\n",
       "    .dataframe tbody tr th:only-of-type {\n",
       "        vertical-align: middle;\n",
       "    }\n",
       "\n",
       "    .dataframe tbody tr th {\n",
       "        vertical-align: top;\n",
       "    }\n",
       "\n",
       "    .dataframe thead th {\n",
       "        text-align: right;\n",
       "    }\n",
       "</style>\n",
       "<table border=\"1\" class=\"dataframe\">\n",
       "  <thead>\n",
       "    <tr style=\"text-align: right;\">\n",
       "      <th></th>\n",
       "      <th>das_wort</th>\n",
       "      <th>die_artikel</th>\n",
       "    </tr>\n",
       "  </thead>\n",
       "  <tbody>\n",
       "    <tr>\n",
       "      <th>0</th>\n",
       "      <td>aachen</td>\n",
       "      <td>n</td>\n",
       "    </tr>\n",
       "    <tr>\n",
       "      <th>1</th>\n",
       "      <td>aakerbeere</td>\n",
       "      <td>f</td>\n",
       "    </tr>\n",
       "    <tr>\n",
       "      <th>2</th>\n",
       "      <td>aalabstieg</td>\n",
       "      <td>m</td>\n",
       "    </tr>\n",
       "    <tr>\n",
       "      <th>3</th>\n",
       "      <td>aalangeln</td>\n",
       "      <td>n</td>\n",
       "    </tr>\n",
       "    <tr>\n",
       "      <th>4</th>\n",
       "      <td>aalart</td>\n",
       "      <td>f</td>\n",
       "    </tr>\n",
       "  </tbody>\n",
       "</table>\n",
       "</div>"
      ],
      "text/plain": [
       "     das_wort die_artikel\n",
       "0      aachen           n\n",
       "1  aakerbeere           f\n",
       "2  aalabstieg           m\n",
       "3   aalangeln           n\n",
       "4      aalart           f"
      ]
     },
     "execution_count": 65,
     "metadata": {},
     "output_type": "execute_result"
    }
   ],
   "source": [
    "# Create a dataframe with two cols, word and gender... Or, let it be das_Wort and die_Artikel.\n",
    "# Oh! And now put away any sensitivity regarding to case, because we go lower..\n",
    "data2 = [noun_str.lower().split(' ') for noun_str in df_filt['german']]\n",
    "\n",
    "# *ChatGPT generates stuff*\n",
    "df_final = pd.DataFrame(data2, columns=['das_wort', 'die_artikel'])\n",
    "\n",
    "# Remove curly brackets\n",
    "# Example for .strip() - txt = \",,,,,rrttgg.....banana....rrr\" NEWLINE x = txt.strip(\",.grt\") result is \"banana\". It removes specific leading and trailing characters.\n",
    "df_final['die_artikel'] = df_final['die_artikel'].apply(lambda x: x.strip('{}')) # x[1] also work...\n",
    "\n",
    "df_final.head(5)"
   ]
  },
  {
   "cell_type": "code",
   "execution_count": 51,
   "id": "8341c73e",
   "metadata": {
    "tags": []
   },
   "outputs": [
    {
     "ename": "NameError",
     "evalue": "name 'df_final' is not defined",
     "output_type": "error",
     "traceback": [
      "\u001b[0;31m---------------------------------------------------------------------------\u001b[0m",
      "\u001b[0;31mNameError\u001b[0m                                 Traceback (most recent call last)",
      "Cell \u001b[0;32mIn[51], line 6\u001b[0m\n\u001b[1;32m      4\u001b[0m color_map \u001b[38;5;241m=\u001b[39m {\u001b[38;5;124m'\u001b[39m\u001b[38;5;124mder\u001b[39m\u001b[38;5;124m'\u001b[39m: \u001b[38;5;124m'\u001b[39m\u001b[38;5;124mforestgreen\u001b[39m\u001b[38;5;124m'\u001b[39m, \u001b[38;5;124m'\u001b[39m\u001b[38;5;124mdie\u001b[39m\u001b[38;5;124m'\u001b[39m: \u001b[38;5;124m'\u001b[39m\u001b[38;5;124mfirebrick\u001b[39m\u001b[38;5;124m'\u001b[39m, \u001b[38;5;124m'\u001b[39m\u001b[38;5;124mdas\u001b[39m\u001b[38;5;124m'\u001b[39m: \u001b[38;5;124m'\u001b[39m\u001b[38;5;124mdarkorange\u001b[39m\u001b[38;5;124m'\u001b[39m}\n\u001b[1;32m      5\u001b[0m \u001b[38;5;66;03m# Count occurrences of each unique value in column 'die_artikel'\u001b[39;00m\n\u001b[0;32m----> 6\u001b[0m value_counts \u001b[38;5;241m=\u001b[39m \u001b[43mdf_final\u001b[49m[\u001b[38;5;124m'\u001b[39m\u001b[38;5;124mdie_artikel\u001b[39m\u001b[38;5;124m'\u001b[39m]\u001b[38;5;241m.\u001b[39mmap(label_map)\u001b[38;5;241m.\u001b[39mvalue_counts()\n\u001b[1;32m      8\u001b[0m \u001b[38;5;28mprint\u001b[39m(\u001b[38;5;124mf\u001b[39m\u001b[38;5;124m\"\u001b[39m\u001b[38;5;124mNumber of words in the current dataset: \u001b[39m\u001b[38;5;132;01m{\u001b[39;00mdf_filt[\u001b[38;5;124m'\u001b[39m\u001b[38;5;124mgerman\u001b[39m\u001b[38;5;124m'\u001b[39m]\u001b[38;5;241m.\u001b[39mnunique()\u001b[38;5;132;01m}\u001b[39;00m\u001b[38;5;124m\"\u001b[39m)\n\u001b[1;32m     10\u001b[0m \u001b[38;5;66;03m# Plot pie chart \u001b[39;00m\n",
      "\u001b[0;31mNameError\u001b[0m: name 'df_final' is not defined"
     ]
    }
   ],
   "source": [
    "# Display the distribution of words on a piechart by ChatGPT\n",
    "# Map labels and colors \n",
    "label_map = {'m': 'der', 'f': 'die', 'n': 'das'}\n",
    "color_map = {'der': 'forestgreen', 'die': 'firebrick', 'das': 'darkorange'}\n",
    "# Count occurrences of each unique value in column 'die_artikel'\n",
    "value_counts = df_final['die_artikel'].map(label_map).value_counts()\n",
    "\n",
    "print(f\"Number of words in the current dataset: {df_filt['german'].nunique()}\")\n",
    "\n",
    "# Plot pie chart \n",
    "plt.figure(figsize=(6, 6))\n",
    "plt.pie(\n",
    "    value_counts,\n",
    "    labels=value_counts.index,\n",
    "    autopct='%1.1f%%',\n",
    "    colors=[color_map[label] for label in value_counts.index],\n",
    "    startangle=140\n",
    ")\n",
    "plt.title('Distribution of Gendered Articles')\n",
    "plt.show()\n"
   ]
  },
  {
   "cell_type": "markdown",
   "id": "7256edf5",
   "metadata": {},
   "source": [
    "Milestone reached. "
   ]
  },
  {
   "cell_type": "markdown",
   "id": "9230681e-1cff-429a-a173-3b69a03d256c",
   "metadata": {
    "jp-MarkdownHeadingCollapsed": true,
    "tags": []
   },
   "source": [
    "### Word examination "
   ]
  },
  {
   "cell_type": "markdown",
   "id": "4da41c3d-c9e3-4bb6-b15a-9a9ab848518c",
   "metadata": {
    "tags": []
   },
   "source": [
    "The next step is dataset kennenlernen. Here is a \n",
    "#### ToDo list:\n",
    "- Write a function that creates a smaller dataset with 42k entries. In the new set all genders should be represented equally. Explain the difference between a **balanced and an imbalanced datasets** and the connection to machine learning.\n",
    "- Collect unique characters from the dataset and visualize their occurences e.g. on a histogram.\n",
    "- Collect the length of words. Visualize them e.g. histogram and boxplot. Compare mean and median values. Check for outliers and print three of the long ones. Translate them and describe how you feel about them. \n",
    "- Create a 2D scatterplot where one axis represents the length of word and the other represents the number unique characters in the word. Color the plot according to genders. Describe observations and draw conclusion.\n",
    "- Discuss the tow ways GermanWithLaura recommends to predict word genders. Choose the one suitable for the current situation. Using the rules described in the article, *write a function that suggests a gender for the words*.\n",
    "\n",
    "#### Feedback:\n",
    "I did use the whole dataset from the beginning. Confidence rises in an area as you can discuss related topics with your own words. If the independent variable is categorical, then a bar plot is a good choice for visualization."
   ]
  },
  {
   "cell_type": "markdown",
   "id": "ee2d4d8b-8a9f-47a7-af99-086e2665ea41",
   "metadata": {
    "jp-MarkdownHeadingCollapsed": true,
    "tags": []
   },
   "source": [
    "#### Balanced and imbalanced datasets"
   ]
  },
  {
   "cell_type": "markdown",
   "id": "61bd5643-2b29-4102-a337-a99217a08bb2",
   "metadata": {
    "tags": []
   },
   "source": [
    "In machine learning imbalanced datasets should be handled with care. If one of the classes is underrepresented in the data used for training, the model subject to training, could fail to learn the characteristics of the underrepresented class. If the model is intended to assign labels to datapoints which belong to different classes with the same *accuracy*, then a balanced dataset (i.e. equally represented classes) is needed.<br>\n",
    "Accuracy is the number of correct predictions divided by the number of all predictions. In the case of unbalanced datasets the accuracy metric for model 'goodness' evaluation should be used with caution. Accuracy is blind to how the model performs in specific class cases. e.g. size: 100, class_a: 99, class_b: 1, model learns class_a well, and predicts all data to be part of class_a. Despite of the fact that the model is unable to correctly assign elements to class_a, it's accuracy would still be 99%.<br>\n",
    "In this specific case the question is if we want the model to predict der, die and das with a similar precision or we would like the model to correcty assign genders to words as many times as possible. "
   ]
  },
  {
   "cell_type": "markdown",
   "id": "2d665adc-05c0-403e-b69d-1fea7d1a1db1",
   "metadata": {},
   "source": [
    "The function implementation would take place here. I decided to skip this step and use the whole dataset instead."
   ]
  },
  {
   "cell_type": "markdown",
   "id": "f0bf4483-4194-418a-b95b-18ed4e404128",
   "metadata": {
    "jp-MarkdownHeadingCollapsed": true,
    "tags": []
   },
   "source": [
    "#### Datensatz kennenlernen"
   ]
  },
  {
   "cell_type": "markdown",
   "id": "813db30e-4908-423a-992e-927b4bbc4dc8",
   "metadata": {
    "tags": []
   },
   "source": [
    "It seems that I filtered out words that does contain letters like ß, ö, ü etc. and that's quite a concern. Could you modify the pattern according to my needs? I would like to include every character that present in German. I am updating clean_data.py - fixed."
   ]
  },
  {
   "cell_type": "code",
   "execution_count": 1,
   "id": "6b7db7d3-d33a-48db-a17d-b17610939671",
   "metadata": {
    "tags": []
   },
   "outputs": [],
   "source": [
    "# Import required packages\n",
    "from clean_data import Clean_Data\n",
    "import pandas as pd\n",
    "from matplotlib import pyplot as plt\n",
    "import numpy as np"
   ]
  },
  {
   "cell_type": "code",
   "execution_count": 2,
   "id": "673771d0-bd50-4bea-89a9-3cfe0b0ecb8f",
   "metadata": {
    "tags": []
   },
   "outputs": [
    {
     "name": "stdout",
     "output_type": "stream",
     "text": [
      "CPU times: user 7.94 s, sys: 671 ms, total: 8.61 s\n",
      "Wall time: 8.67 s\n"
     ]
    },
    {
     "data": {
      "text/html": [
       "<div>\n",
       "<style scoped>\n",
       "    .dataframe tbody tr th:only-of-type {\n",
       "        vertical-align: middle;\n",
       "    }\n",
       "\n",
       "    .dataframe tbody tr th {\n",
       "        vertical-align: top;\n",
       "    }\n",
       "\n",
       "    .dataframe thead th {\n",
       "        text-align: right;\n",
       "    }\n",
       "</style>\n",
       "<table border=\"1\" class=\"dataframe\">\n",
       "  <thead>\n",
       "    <tr style=\"text-align: right;\">\n",
       "      <th></th>\n",
       "      <th>das_wort</th>\n",
       "      <th>die_artikel</th>\n",
       "    </tr>\n",
       "  </thead>\n",
       "  <tbody>\n",
       "    <tr>\n",
       "      <th>0</th>\n",
       "      <td>aachen</td>\n",
       "      <td>n</td>\n",
       "    </tr>\n",
       "    <tr>\n",
       "      <th>1</th>\n",
       "      <td>aakerbeere</td>\n",
       "      <td>f</td>\n",
       "    </tr>\n",
       "    <tr>\n",
       "      <th>2</th>\n",
       "      <td>aalabstieg</td>\n",
       "      <td>m</td>\n",
       "    </tr>\n",
       "    <tr>\n",
       "      <th>3</th>\n",
       "      <td>aalangeln</td>\n",
       "      <td>n</td>\n",
       "    </tr>\n",
       "    <tr>\n",
       "      <th>4</th>\n",
       "      <td>aalart</td>\n",
       "      <td>f</td>\n",
       "    </tr>\n",
       "  </tbody>\n",
       "</table>\n",
       "</div>"
      ],
      "text/plain": [
       "     das_wort die_artikel\n",
       "0      aachen           n\n",
       "1  aakerbeere           f\n",
       "2  aalabstieg           m\n",
       "3   aalangeln           n\n",
       "4      aalart           f"
      ]
     },
     "execution_count": 2,
     "metadata": {},
     "output_type": "execute_result"
    }
   ],
   "source": [
    "%%time\n",
    "# The class is able to filter and return the nouns described in section 'Getting data'\n",
    "cleaner = Clean_Data('de_en_vocab_data.txt')\n",
    "# Pandas dataFrame to store nouns\n",
    "df = cleaner.getNouns()\n",
    "df.head(5)"
   ]
  },
  {
   "cell_type": "code",
   "execution_count": 3,
   "id": "bd7abd06",
   "metadata": {},
   "outputs": [
    {
     "data": {
      "image/png": "[encoded data removed]",
      "text/plain": [
       "<Figure size 600x600 with 1 Axes>"
      ]
     },
     "metadata": {},
     "output_type": "display_data"
    }
   ],
   "source": [
    "cleaner.genderPiechart()"
   ]
  },
  {
   "cell_type": "code",
   "execution_count": 11,
   "id": "33eac30b-9bb9-4018-8e8e-fa43d6458ca4",
   "metadata": {
    "tags": []
   },
   "outputs": [],
   "source": [
    "# Collect unique characters from 'das_wort' col.\n",
    "#word_s = ('').join(df['das_wort'][:5])\n",
    "#print(word_s)\n",
    "#print(type(word_s), pd.Series(list(word_s)).unique())\n",
    "\n",
    "# Joining all words into one string is too much for the computer\n",
    "# Let us define a function to apply to for 'das_wort'. Let us see the timing, or the ability to run.\n",
    "uniq_letters = set.union(*list((df['das_wort'].apply(lambda x: set(x)))))\n",
    "# Order them \n",
    "uniq_letters = sorted(uniq_letters)"
   ]
  },
  {
   "cell_type": "code",
   "execution_count": 12,
   "id": "da2868b0-8209-4291-882d-6ea0f1d3cd84",
   "metadata": {
    "tags": []
   },
   "outputs": [
    {
     "name": "stdout",
     "output_type": "stream",
     "text": [
      "['a', 'b', 'c', 'd', 'e', 'f', 'g', 'h', 'i', 'j', 'k', 'l', 'm', 'n', 'o', 'p', 'q', 'r', 's', 't', 'u', 'v', 'w', 'x', 'y', 'z', 'ß', 'ä', 'ö', 'ü']\n"
     ]
    }
   ],
   "source": [
    "# Ah.. the set of building blocks. All players are present.\n",
    "print(uniq_letters)"
   ]
  },
  {
   "cell_type": "code",
   "execution_count": 38,
   "id": "e57507f5-9875-4e52-9c45-dd2efbc860e3",
   "metadata": {
    "tags": []
   },
   "outputs": [
    {
     "name": "stdout",
     "output_type": "stream",
     "text": [
      "<class 'pandas.core.series.Series'>\n"
     ]
    },
    {
     "data": {
      "image/png": "[encoded data removed]",
      "text/plain": [
       "<Figure size 1200x600 with 1 Axes>"
      ]
     },
     "metadata": {},
     "output_type": "display_data"
    },
    {
     "data": {
      "image/png": "[encoded data removed]",
      "text/plain": [
       "<Figure size 1200x600 with 1 Axes>"
      ]
     },
     "metadata": {},
     "output_type": "display_data"
    },
    {
     "name": "stdout",
     "output_type": "stream",
     "text": [
      "CPU times: user 2.68 s, sys: 3.24 ms, total: 2.69 s\n",
      "Wall time: 2.69 s\n"
     ]
    }
   ],
   "source": [
    "%%time\n",
    "# Display number of occurences of different letters\n",
    "# Initialize a dictionary with zero for each unique character\n",
    "uniq_count = {letter : 0 for letter in uniq_letters}\n",
    "\n",
    "# Counter returns a dict with unique values being keys and their number of occurences being values.\n",
    "from collections import Counter\n",
    "a = df['das_wort'].apply(lambda x: Counter(x))\n",
    "print(type(a)) # series\n",
    "\n",
    "# Loop through a pd Series containing dicts which describe {letter: number_of_that_letter} for each entry.\n",
    "for uniq_word_letters in a:\n",
    "    # Loop through the keys of each dict.\n",
    "    for letter in uniq_word_letters:\n",
    "        # Add the value found in the dict to the uniq_count variable for the corresponding key.\n",
    "        uniq_count[letter] += uniq_word_letters[letter]\n",
    "    \n",
    "# Plot\n",
    "plt.figure(figsize=(12, 6))\n",
    "plt.bar(uniq_count.keys(), uniq_count.values(), color='skyblue')\n",
    "plt.xlabel('Letters')\n",
    "plt.ylabel('Count')\n",
    "#plt.yscale('log')\n",
    "plt.title('Frequency of Each Letter')\n",
    "plt.xticks(rotation=0)\n",
    "plt.show()\n",
    "\n",
    "# Number of words that contain a specific letter.\n",
    "def words_with_letter(words = pd.Series(), letter = str) -> int:\n",
    "    return sum(words.apply(lambda x: True if letter in x else False))\n",
    "\n",
    "# Collect number of words \n",
    "spec_letter_in_word = {letter : 0 for letter in uniq_letters}\n",
    "for letter in uniq_letters:\n",
    "    spec_letter_in_word[letter] = words_with_letter(df['das_wort'], letter)\n",
    "\n",
    "# Plot\n",
    "plt.figure(figsize=(12, 6))\n",
    "plt.bar(spec_letter_in_word.keys(), spec_letter_in_word.values(), color='aquamarine')\n",
    "plt.xlabel('Letters')\n",
    "plt.ylabel('Count')\n",
    "plt.title('Frequency of words which contain a specific letter')\n",
    "plt.xticks(rotation=0)\n",
    "plt.show()"
   ]
  },
  {
   "cell_type": "markdown",
   "id": "b88e3cc1-d334-4b22-a2a5-cd11b32fb0f4",
   "metadata": {
    "tags": []
   },
   "source": [
    "Explain why the 'Frequency of each letter' and 'Frequency of words wich contain a specific letter' is similar!<br>\n",
    "The *number of words* in which letter 'any' is present is *proportional* to the *number of occurences* of that letter 'any' in the whole corpus. "
   ]
  },
  {
   "cell_type": "code",
   "execution_count": 34,
   "id": "09621482-2ed0-41d3-bf5a-a1589c2a7465",
   "metadata": {
    "tags": []
   },
   "outputs": [
    {
     "name": "stdout",
     "output_type": "stream",
     "text": [
      "Median: 13.0\n",
      "Mean: 13.47, Std_dev: 4.23\n",
      "Max. length: 43, Min. lenght: 2\n"
     ]
    },
    {
     "data": {
      "image/png": "[encoded data removed]",
      "text/plain": [
       "<Figure size 640x480 with 1 Axes>"
      ]
     },
     "metadata": {},
     "output_type": "display_data"
    },
    {
     "data": {
      "image/png": "[encoded data removed]",
      "text/plain": [
       "<Figure size 640x480 with 1 Axes>"
      ]
     },
     "metadata": {},
     "output_type": "display_data"
    },
    {
     "name": "stdout",
     "output_type": "stream",
     "text": [
      "CPU times: user 1.29 s, sys: 7.04 ms, total: 1.3 s\n",
      "Wall time: 1.31 s\n"
     ]
    }
   ],
   "source": [
    "%%time\n",
    "# Let us collect the length of words\n",
    "word_l = list(df['das_wort'].apply(lambda x: len(x)))\n",
    "# Display a histogram \n",
    "a = plt.hist(word_l, bins=100);\n",
    "mean_value = np.mean(word_l)\n",
    "print(f'Median: {np.median(word_l)}')\n",
    "print(f'Mean: {round(mean_value, 2)}, Std_dev: {round(np.std(word_l), 2)}')\n",
    "print(f'Max. length: {np.max(word_l)}, Min. lenght: {np.min(word_l)}')\n",
    "plt.axvline(mean_value, color='red', linestyle='dashed', linewidth=1.5, label=f'Mean: {mean_value:.2f}');\n",
    "plt.title('Histogram of word length')\n",
    "plt.xlabel('Length [charachters]')\n",
    "plt.ylabel('Frequency')\n",
    "plt.legend()\n",
    "plt.show()\n",
    "plt.boxplot(word_l)\n",
    "plt.title('Boxplot of word length')\n",
    "plt.show()\n",
    "# Optional: fit a curve to the datapoints "
   ]
  },
  {
   "cell_type": "code",
   "execution_count": 50,
   "id": "d49586a5-000b-4a9a-866e-14c29edb229d",
   "metadata": {
    "tags": []
   },
   "outputs": [
    {
     "name": "stdout",
     "output_type": "stream",
     "text": [
      "The longest word is: maschinenbetriebsunterbrechungsversicherung\n"
     ]
    },
    {
     "data": {
      "text/html": [
       "<div>\n",
       "<style scoped>\n",
       "    .dataframe tbody tr th:only-of-type {\n",
       "        vertical-align: middle;\n",
       "    }\n",
       "\n",
       "    .dataframe tbody tr th {\n",
       "        vertical-align: top;\n",
       "    }\n",
       "\n",
       "    .dataframe thead th {\n",
       "        text-align: right;\n",
       "    }\n",
       "</style>\n",
       "<table border=\"1\" class=\"dataframe\">\n",
       "  <thead>\n",
       "    <tr style=\"text-align: right;\">\n",
       "      <th></th>\n",
       "      <th>das_wort</th>\n",
       "      <th>die_artikel</th>\n",
       "      <th>bag_of_letters</th>\n",
       "      <th>length</th>\n",
       "      <th>uniq_chars</th>\n",
       "    </tr>\n",
       "  </thead>\n",
       "  <tbody>\n",
       "    <tr>\n",
       "      <th>166793</th>\n",
       "      <td>maschinenbetriebsunterbrechungsversicherung</td>\n",
       "      <td>f</td>\n",
       "      <td>[[0.0, 0.0, 0.0, 0.0, 0.0, 0.0, 0.0, 0.0, 0.0,...</td>\n",
       "      <td>43</td>\n",
       "      <td>14</td>\n",
       "    </tr>\n",
       "    <tr>\n",
       "      <th>55773</th>\n",
       "      <td>donaudampfschifffahrtsgesellschaftskapitän</td>\n",
       "      <td>m</td>\n",
       "      <td>[[0.0, 0.0, 0.0, 1.0, 0.0, 0.0, 0.0, 0.0, 0.0,...</td>\n",
       "      <td>42</td>\n",
       "      <td>19</td>\n",
       "    </tr>\n",
       "    <tr>\n",
       "      <th>209281</th>\n",
       "      <td>pulmonalarterienröntgenkontrastdarstellung</td>\n",
       "      <td>f</td>\n",
       "      <td>[[0.0, 0.0, 0.0, 0.0, 0.0, 0.0, 0.0, 0.0, 0.0,...</td>\n",
       "      <td>42</td>\n",
       "      <td>16</td>\n",
       "    </tr>\n",
       "  </tbody>\n",
       "</table>\n",
       "</div>"
      ],
      "text/plain": [
       "                                           das_wort die_artikel  \\\n",
       "166793  maschinenbetriebsunterbrechungsversicherung           f   \n",
       "55773    donaudampfschifffahrtsgesellschaftskapitän           m   \n",
       "209281   pulmonalarterienröntgenkontrastdarstellung           f   \n",
       "\n",
       "                                           bag_of_letters  length  uniq_chars  \n",
       "166793  [[0.0, 0.0, 0.0, 0.0, 0.0, 0.0, 0.0, 0.0, 0.0,...      43          14  \n",
       "55773   [[0.0, 0.0, 0.0, 1.0, 0.0, 0.0, 0.0, 0.0, 0.0,...      42          19  \n",
       "209281  [[0.0, 0.0, 0.0, 0.0, 0.0, 0.0, 0.0, 0.0, 0.0,...      42          16  "
      ]
     },
     "execution_count": 50,
     "metadata": {},
     "output_type": "execute_result"
    }
   ],
   "source": [
    "# What is the longest word?\n",
    "lengths = df['das_wort'].apply(lambda x: len(x))\n",
    "# Also collect the number of unique characters for each\n",
    "uniq_chars = df['das_wort'].apply(lambda x: len(set(x)))\n",
    "# Get the element with the longest length\n",
    "print(f\"The longest word is: {df.loc[lengths.idxmax(), 'das_wort']}\")\n",
    "\n",
    "# Add a length column. Display the three longest and their lengths\n",
    "df['length'] = lengths\n",
    "df['uniq_chars'] = uniq_chars\n",
    "df_sorted = df.sort_values(by='length', ascending=False)\n",
    "df_sorted.head(3)"
   ]
  },
  {
   "cell_type": "markdown",
   "id": "13762cc3-ac64-413f-8d96-fd68142fdab6",
   "metadata": {},
   "source": [
    "The distribution of word lengths resembles a *normal distribution* which occurs naturely in nature... At the end we are dealing with *natural* language. It is visible that the bell is skewed to the left which means that most values are below average or the mean is pulled to the right by long outliers. I assumed that here, we would find some treasures, I especially like the third one. It think *pulmonal* relates to *the lungs*, *arterien* to *arteries*, *röntgen* (Wilhelm Conrad Röntgen was a german physicist who discovered x-rays) to *x-ray*, *kontrast* to *contrast* (some contrast agent used to enhance image quality) and *darstellung* means *representation* according to the translator. Mm.. how would I translate this to my mother language? But more importantly, what is the article of it?"
   ]
  },
  {
   "cell_type": "code",
   "execution_count": 38,
   "id": "ce25561e-21ad-4ff8-ac4e-ce3c92a98492",
   "metadata": {
    "tags": []
   },
   "outputs": [
    {
     "name": "stdout",
     "output_type": "stream",
     "text": [
      "Number of elements displayed: 40000\n"
     ]
    },
    {
     "data": {
      "image/png": "[encoded data removed]",
      "text/plain": [
       "<Figure size 600x600 with 1 Axes>"
      ]
     },
     "metadata": {},
     "output_type": "display_data"
    }
   ],
   "source": [
    "# Collect N random elements and display them on a scatterplot\n",
    "# Color them according to their gender\n",
    "# Display legends\n",
    "N = 40000\n",
    "print(f'Number of elements displayed: {N}')\n",
    "df_display = df.sample(n=N, random_state=42)\n",
    "\n",
    "# Display\n",
    "label_map = {'m': 'der', 'f': 'die', 'n': 'das'}\n",
    "color_map = {'der': 'forestgreen', 'die': 'firebrick', 'das': 'darkorange'}\n",
    "\n",
    "# Map the 'die_artikel' column to article labels\n",
    "df_display['article_label'] = df_display['die_artikel'].map(label_map)\n",
    "\n",
    "# Map the article labels to colors\n",
    "df_display['color'] = df_display['article_label'].map(color_map)\n",
    "\n",
    "# Create scatter plot\n",
    "fig, ax = plt.subplots(figsize=(6, 6))\n",
    "scatter = ax.scatter(\n",
    "    df_display['length'], \n",
    "    df_display['uniq_chars'], \n",
    "    c=df_display['color'], \n",
    "    alpha=0.7\n",
    ")\n",
    "\n",
    "# Manually add legend entries for 'der', 'die', and 'das'\n",
    "for article, color in color_map.items():\n",
    "    ax.scatter([], [], color=color, label=article)\n",
    "\n",
    "ax.legend(title=\"Gender\")\n",
    "\n",
    "plt.title('\\nWords represented by their length and number of unique characters')\n",
    "plt.xlabel('Length')\n",
    "plt.ylabel('Num. of uniq. chars.')\n",
    "plt.show()"
   ]
  },
  {
   "cell_type": "markdown",
   "id": "b95c4549-486f-469d-aae1-c72dcfdc0228",
   "metadata": {},
   "source": [
    "From the plot one could see that there is a strong positive linear relationship between the chosen data point descriptors. At the end, longer words contain more letters and there is a higher chance to see variability in a longer chain of letters.<br>\n",
    "In terms of classifiability, it is clear that data points could hardly be seperated from each other and assigned to their corresponding class. "
   ]
  },
  {
   "cell_type": "markdown",
   "id": "d92a00c3-439d-4dae-adb0-345e4611fa41",
   "metadata": {
    "jp-MarkdownHeadingCollapsed": true,
    "tags": []
   },
   "source": [
    "#### Classification without AI"
   ]
  },
  {
   "cell_type": "markdown",
   "id": "f1109428-4e89-43f2-a7e4-02a28ef3fc0d",
   "metadata": {},
   "source": [
    "The article by GermanWithLaura, describes two ways to remember the aricles correctly. \n",
    "- Noun groups (specific topic groups associated with particular genders) e.g. all months of the year are masculine.\n",
    "- Noun forms (specific spelling patterns associated with particular genders) e.g. all nouns ending in -ung are feminine.\n",
    "\n",
    "The goal here is to decide on an article based on patterns present in the structure of words. Let us build a good old human tuned decision making machine, a deterministic algorithm. Below is the description of rules to comply with according to the abovementioned article.\n",
    "<br><br>**Masculine Forms**\n",
    "- Ending with: ['ant', 'ast', 'ich', 'ig', 'ling', 'or', 'us'].\n",
    "- Nouns formed from strong verbs - Implementation is ???\n",
    "- Around 60% of nouns ending with: ['en', 'el', 'er'].\n",
    "\n",
    "**Feminine Forms**\n",
    "- Ending with: ['a', 'anz', 'enz', 'ei', 'ie', 'heit', 'keit', 'ik', 'sion', 'tion', 'sis', 'tät', 'ung', 'ur', 'schaft']. There are exceptions.\n",
    "- Denotion of female counterpart to a male person by addition of ['in', 'frau'].\n",
    "- Around 90% of nouns ending with ['e'].\n",
    "- Most nouns (coming from verbs) ending in ['t'].\n",
    "\n",
    "**Neuter Forms**\n",
    "- Ending with: ['chen', 'lein', 'icht', 'il', 'it', 'ma', 'ment', 'tel', 'tum', 'um']. There are exceptions.\n",
    "- Most nouns that start with the prefix ['ge'].\n",
    "- Around 70% of nouns ending with: ['nis', 'sal'].\n",
    "- Ending with: ['al', 'an', 'ar', 'är', 'at', 'ent', 'ett', 'ier', 'iv', 'o', 'on']. Generally neuter except if they refer to male people.\n",
    "\n",
    "This information is sufficent to build such an algorithm."
   ]
  },
  {
   "cell_type": "code",
   "execution_count": 1,
   "id": "42bbdb9e-478e-4f25-8d9d-64fc4eb6f94b",
   "metadata": {
    "tags": []
   },
   "outputs": [
    {
     "name": "stdout",
     "output_type": "stream",
     "text": [
      "CPU times: user 4.68 s, sys: 653 ms, total: 5.33 s\n",
      "Wall time: 5.61 s\n"
     ]
    }
   ],
   "source": [
    "%%time\n",
    "# Import required packages\n",
    "from clean_data import Clean_Data\n",
    "import pandas as pd\n",
    "#from matplotlib import pyplot as plt\n",
    "#import numpy as np\n",
    "\n",
    "# Load data\n",
    "cleaner = Clean_Data('de_en_vocab_data.txt')\n",
    "df = cleaner.getNouns()"
   ]
  },
  {
   "cell_type": "code",
   "execution_count": 9,
   "id": "c4d70ba8-c5d0-4479-b516-0edabe121ed8",
   "metadata": {
    "tags": []
   },
   "outputs": [],
   "source": [
    "def assign_gender(word = str) -> str:\n",
    "    \"\"\"Suggests an article for a word based on defined rules.\n",
    "    Takes a word as an input. \n",
    "    Returns m, f or n as it's output.\"\"\"\n",
    "    \n",
    "    genders = ('m', 'f', 'n') # ('der', 'die', 'das')\n",
    "    \n",
    "    # Define suffix containers for each gender.\n",
    "    suffs_m = ['ant', 'ast', 'ich', 'ig', 'ling', 'or', 'us'] + ['en', 'el', 'er']\n",
    "    suffs_f = ['a', 'anz', 'enz', 'ei', 'ie', 'heit', 'keit', 'ik', 'sion', 'tion', 'sis', 'tät', 'ung', 'ur', 'schaft'] + ['e'] + ['in'] + ['frau']\n",
    "    suffs_n = ['chen', 'lein', 'icht', 'il', 'it', 'ma', 'ment', 'tel', 'tum', 'um'] + ['al', 'an', 'ar', 'är', 'at', 'ent', 'ett', 'ier', 'iv', 'o', 'on'] + ['nis', 'sal']\n",
    "    # prefs_n = ['ge']\n",
    "    \n",
    "    # Decide on an article based on word suffix.\n",
    "    # Assign one randomly if there are no matches.\n",
    "    if any(word.endswith(suffix) for suffix in suffs_m):\n",
    "        return genders[0]\n",
    "    elif any(word.endswith(suffix) for suffix in suffs_f):\n",
    "        return genders[1]\n",
    "    elif any(word.endswith(suffix) for suffix in suffs_n):\n",
    "        return genders[2]\n",
    "    else:\n",
    "        return np.random.choice(genders)"
   ]
  },
  {
   "cell_type": "code",
   "execution_count": 8,
   "id": "c4f57217-358e-4f1c-85fb-bb29ab4f4563",
   "metadata": {
    "tags": []
   },
   "outputs": [
    {
     "name": "stdout",
     "output_type": "stream",
     "text": [
      "Give a word:  arztin\n"
     ]
    },
    {
     "name": "stdout",
     "output_type": "stream",
     "text": [
      "The suggested article for 'arztin' is 'n'\n"
     ]
    }
   ],
   "source": [
    "# Testing the function\n",
    "word = input('Give a word: ')\n",
    "print(f\"The suggested article for '{word}' is '{assign_gender(word)}'\")"
   ]
  },
  {
   "cell_type": "code",
   "execution_count": 10,
   "id": "c7c0249e-fdf2-434b-936a-051cb22bd906",
   "metadata": {
    "tags": []
   },
   "outputs": [],
   "source": [
    "# Loop through the whole dataset and and count the number of correct predictions\n",
    "# Display the accuracy of the model\n",
    "def model_evaluate(df=pd.DataFrame) -> float:\n",
    "    \"\"\"Input: |das_wort|die_artikel| df\n",
    "    Creates on the go: |das_wort|die_artikel|pred_art| df\n",
    "    Displays accuracy in %\n",
    "    Returns accuracy=sum(matching articles of second and third columns)/num_of_articles\"\"\"\n",
    "    # No change on input df | any suggestions?\n",
    "    df = df.copy()\n",
    "    \n",
    "    # Create a column of articles suggested by the algorithm.\n",
    "    df['pred_art'] = pd.Series(df['das_wort'].apply(lambda x: assign_gender(x)))\n",
    "    \n",
    "    # Count the number of predictions and and the correct ones\n",
    "    pred_correct = 0\n",
    "    pred_all = 0\n",
    "    \n",
    "    # Loop through the two columns and update the values defined above.\n",
    "    for label_pair in zip(df['die_artikel'], df['pred_art']):\n",
    "        #print(type(label_pair[0]), label_pair[0])\n",
    "        if label_pair[0] == label_pair[1]:\n",
    "            pred_correct += 1\n",
    "            pred_all += 1\n",
    "        else:\n",
    "            pred_all += 1\n",
    "    \n",
    "    # Calculate accuracy\n",
    "    acc = pred_correct / pred_all\n",
    "    \n",
    "    # Display accuracy\n",
    "    print(f'The accuracy of the model is: {100*round(acc, 4)}%.')\n",
    "    \n",
    "    # Return accuracy\n",
    "    return acc"
   ]
  },
  {
   "cell_type": "code",
   "execution_count": 14,
   "id": "5b977d78-363f-418d-bd71-3d278127fceb",
   "metadata": {
    "tags": []
   },
   "outputs": [
    {
     "name": "stdout",
     "output_type": "stream",
     "text": [
      "The accuracy of the model is: 67.03%.\n"
     ]
    }
   ],
   "source": [
    "acc1 = model_evaluate(df)"
   ]
  },
  {
   "cell_type": "markdown",
   "id": "85536212-972d-4c2f-a4d0-cdb2042242e4",
   "metadata": {},
   "source": [
    "Adding 'in' and 'frau' to suffix in gives a percentage of accuracy."
   ]
  },
  {
   "cell_type": "markdown",
   "id": "09de45d4-720b-4d36-89ba-2c0fb12f9003",
   "metadata": {},
   "source": [
    "The rather stochastic (randomness included in the model) algorithm can predict the pronoun of a german word with an amazing 66% accuracy! Download it to your smartwatch to begin German progression. Free trial for a month, then €5 a day :3"
   ]
  },
  {
   "cell_type": "markdown",
   "id": "e61cf9c7-1bce-4053-a566-b3d59ecf925e",
   "metadata": {
    "jp-MarkdownHeadingCollapsed": true,
    "tags": []
   },
   "source": [
    "### Word Embedding"
   ]
  },
  {
   "cell_type": "markdown",
   "id": "704f8bb6-8b08-4ccc-a700-65136348d0ce",
   "metadata": {
    "jp-MarkdownHeadingCollapsed": true,
    "tags": []
   },
   "source": [
    "#### ToDo list:\n",
    "- Refresh and implement One-Hot-Encoding. Encode each word and store them.\n",
    "- Discuss TF-IDF and write down your thoughts, way of understanding. Decide if it can be implemented for and applied to words without context. \n",
    "#### Feedback:\n",
    "New topics need time to sink in. "
   ]
  },
  {
   "cell_type": "code",
   "execution_count": 2,
   "id": "3c647b54-3869-46c1-8fb5-3038cee4d859",
   "metadata": {
    "tags": []
   },
   "outputs": [
    {
     "name": "stdout",
     "output_type": "stream",
     "text": [
      "CPU times: user 3.71 s, sys: 474 ms, total: 4.18 s\n",
      "Wall time: 4.43 s\n"
     ]
    }
   ],
   "source": [
    "%%time\n",
    "# Import required packages\n",
    "from clean_data import Clean_Data\n",
    "import pandas as pd\n",
    "from matplotlib import pyplot as plt\n",
    "import numpy as np\n",
    "\n",
    "# Load data\n",
    "cleaner = Clean_Data('de_en_vocab_data.txt')\n",
    "df = cleaner.getNouns()\n",
    "\n",
    "# Define unique letters again\n",
    "uniq_letters = sorted(set.union(*list(df['das_wort'].apply(lambda x: set(x)))))"
   ]
  },
  {
   "cell_type": "markdown",
   "id": "8b2506e4-2841-480f-b308-58ef963d8c17",
   "metadata": {
    "jp-MarkdownHeadingCollapsed": true,
    "tags": []
   },
   "source": [
    "#### One Hot Encoding\n",
    "Time to represent words numerically. The idea is to represent each character as a vector with length equal to unique characters. These vectors are glued together to give a sparse matrix and represent a word."
   ]
  },
  {
   "cell_type": "code",
   "execution_count": 14,
   "id": "02c3da45-acf5-4e43-9e04-f5a556e0bf3f",
   "metadata": {
    "tags": []
   },
   "outputs": [],
   "source": [
    "def one_hot_encode(word = str) -> np.array([float]):\n",
    "    \"\"\"Creates a one hot encoded version of a string of characters.\n",
    "    One line of the output corresponds to one character of the input.\"\"\"\n",
    "    \n",
    "    # Container to store letter representing vectors.\n",
    "    word_encoded = list()\n",
    "    \n",
    "    # Loop through the word.\n",
    "    for character in word:\n",
    "        char_vec = np.where(np.array(uniq_letters) == character, 1.0, 0.0) # Should be float later (guess what an AI model consumes)\n",
    "        word_encoded.append(char_vec)\n",
    "    return np.array(word_encoded)"
   ]
  },
  {
   "cell_type": "code",
   "execution_count": 15,
   "id": "fe253b2e-4360-4f5a-9108-998ad1e461d6",
   "metadata": {
    "tags": []
   },
   "outputs": [
    {
     "name": "stdout",
     "output_type": "stream",
     "text": [
      "The word 'baby' one hot encoded: \n",
      "[[0. 1. 0. 0. 0. 0. 0. 0. 0. 0. 0. 0. 0. 0. 0. 0. 0. 0. 0. 0. 0. 0. 0. 0.\n",
      "  0. 0. 0. 0. 0. 0.]\n",
      " [1. 0. 0. 0. 0. 0. 0. 0. 0. 0. 0. 0. 0. 0. 0. 0. 0. 0. 0. 0. 0. 0. 0. 0.\n",
      "  0. 0. 0. 0. 0. 0.]\n",
      " [0. 1. 0. 0. 0. 0. 0. 0. 0. 0. 0. 0. 0. 0. 0. 0. 0. 0. 0. 0. 0. 0. 0. 0.\n",
      "  0. 0. 0. 0. 0. 0.]\n",
      " [0. 0. 0. 0. 0. 0. 0. 0. 0. 0. 0. 0. 0. 0. 0. 0. 0. 0. 0. 0. 0. 0. 0. 0.\n",
      "  1. 0. 0. 0. 0. 0.]]\n"
     ]
    }
   ],
   "source": [
    "s = 'baby'\n",
    "a = one_hot_encode(s)\n",
    "print(f\"The word '{s}' one hot encoded: \\n{a}\")"
   ]
  },
  {
   "cell_type": "markdown",
   "id": "2e6dbc6e-3eda-46b3-ac61-b6ff8892da4d",
   "metadata": {},
   "source": [
    "A simple, interpretable way to map **strings to array of numbers**. An obvious drawback of this approach is that the objects occupy a big (8 bytes times characters in word) chunk of memory and fill it up with zeros. Scale up one hot encoding for a whole corpus built up from documents: unique letters will become unique words and unique words will become unique documents. Words then could be represented by just one vector with a length of the number of unique words in the document(vocabulary).<br>\n",
    "Note: strings can hardly be represented by unique integers simply because there are less unique integers than strings."
   ]
  },
  {
   "cell_type": "markdown",
   "id": "02946a64-2b32-46cb-9c6d-7bf595ed84ab",
   "metadata": {
    "jp-MarkdownHeadingCollapsed": true,
    "tags": []
   },
   "source": [
    "#### Bag of words\n",
    "Another intuitive way **to represent text** is the method called *bag of words*. A document or a sentence can be represented in this way: Represent a document with a vector equal to the vocabulary in terms of length. Define the vector filled with zeros, then loop through the words present in the document one by one. Increment the value of the vector element corresponding to a unique word."
   ]
  },
  {
   "cell_type": "code",
   "execution_count": 9,
   "id": "cbf4ba02-b92e-467b-8754-70e10da190ca",
   "metadata": {
    "tags": []
   },
   "outputs": [],
   "source": [
    "# Represent a word with just one vector\n",
    "def bag_of_letters(word = str) -> np.array([], dtype=float):\n",
    "    # Container to store letter representing vector.\n",
    "    word_encoded = np.zeros(len(uniq_letters))\n",
    "    # Loop through each letter found in a word.\n",
    "    for letter in word:\n",
    "        # Basically, one hot encode a letter\n",
    "        char_vec = np.where(np.array(uniq_letters) == letter, 1.0, 0.0)\n",
    "        word_encoded += char_vec\n",
    "    return word_encoded"
   ]
  },
  {
   "cell_type": "code",
   "execution_count": 23,
   "id": "c7b98529-1793-4931-85c3-a9da3442f0ae",
   "metadata": {
    "tags": []
   },
   "outputs": [
    {
     "data": {
      "text/plain": [
       "array([4., 0., 0., 1., 4., 0., 2., 0., 1., 0., 1., 4., 1., 6., 2., 1., 0.,\n",
       "       5., 2., 5., 2., 0., 0., 0., 0., 0., 0., 0., 1., 0.])"
      ]
     },
     "execution_count": 23,
     "metadata": {},
     "output_type": "execute_result"
    }
   ],
   "source": [
    "bag_of_letters('pulmonalarterienröntgenkontrastdarstellung')"
   ]
  },
  {
   "cell_type": "markdown",
   "id": "fd382146-9b16-47a2-9bad-8b2168473835",
   "metadata": {
    "jp-MarkdownHeadingCollapsed": true,
    "tags": []
   },
   "source": [
    "#### TF-IDF\n",
    "In my words TF-IDF is a metric which captures the relevance of a word in a document. It is proportional to the number of word occurences in the document, and inversely proportional to the number of ducuments that contain the word. The *corpus* used for training could be a collection of websites, articles, books and social media posts. <br>\n",
    "In this case the whole corpus is a *collection of words*. The documents are *individual words*. The smallest unit to be processed is an individual character."
   ]
  },
  {
   "cell_type": "markdown",
   "id": "2768f58b-f37e-484b-ab87-eafa93688ab9",
   "metadata": {
    "tags": []
   },
   "source": [
    "Term Frequency (TF):<br><br>\n",
    "$$TF(t, d)=\\frac{Total-number-of-times-term-t-appears-in-document-d}{Total-number-of-terms-in-document-d}$$\n",
    "<br>Inverse Document Frequency (IDF):<br><br>\n",
    "$$IDF(t, D)=log(\\frac{Total-documents}{Number-of-documents-containing-term-t})$$\n",
    "<br>The TF-IDF score:<br><br>\n",
    "$$TF-IDF(t, d, D)=TF(t, d)IDF(t, D)$$\n",
    "<br>\"The higher the TF-IDF score for a term in a document, the more important that term is to that document within the context of the entire corpus.\" - https://www.geeksforgeeks.org/word-embeddings-in-nlp/"
   ]
  },
  {
   "cell_type": "markdown",
   "id": "f89396ae-102d-4ef6-ac33-95bc87372fa7",
   "metadata": {
    "tags": []
   },
   "source": [
    "Explain why the 'Frequency of each letter' and 'Frequency of words wich contain a specific letter' is similar!<br>\n",
    "The *number of words* in which letter 'any' is present is *proportional* to the *number of occurences* of that letter 'any' in the whole corpus. "
   ]
  },
  {
   "cell_type": "code",
   "execution_count": 24,
   "id": "db21e0c2-321d-4b96-90df-5987e6ba4c63",
   "metadata": {
    "tags": []
   },
   "outputs": [],
   "source": [
    "def tf_idf(word = str) -> list[float]:\n",
    "    \"\"\"For just one word.\n",
    "    Returns a vector with length: number of unique letters in the input word.\n",
    "    \"\"\"\n",
    "    result = {}\n",
    "    # Unique letters found in input word.\n",
    "    terms = set(word)\n",
    "\n",
    "    for term in terms:\n",
    "        tf = sum([character == term for character in word]) / len(word)\n",
    "        # total_documents = df.shape[0]\n",
    "        idf = np.log10(df.shape[0] / sum(df['das_wort'].apply(lambda x: True if term in x else False)))\n",
    "        result[term] = tf * idf\n",
    "    return result"
   ]
  },
  {
   "cell_type": "code",
   "execution_count": 25,
   "id": "4a4342b5-b031-443e-bd8b-31bdbe2076c5",
   "metadata": {
    "tags": []
   },
   "outputs": [
    {
     "data": {
      "text/plain": [
       "{'o': 0.03127384030615099,\n",
       " 'e': 0.005193437602147822,\n",
       " 't': 0.030093880021269323,\n",
       " 'r': 0.023021297349397594,\n",
       " 'w': 0.06870809324137844,\n",
       " 'v': 0.07738139303233194,\n",
       " 'n': 0.02549836845746863,\n",
       " 'u': 0.02546520506448762,\n",
       " 'a': 0.015178541821587597,\n",
       " 'g': 0.029853558009990122}"
      ]
     },
     "execution_count": 25,
     "metadata": {},
     "output_type": "execute_result"
    }
   ],
   "source": [
    "tf_idf('verantwortung')"
   ]
  },
  {
   "cell_type": "code",
   "execution_count": 22,
   "id": "e7a3ac5b-5e8d-4edb-828e-c294cd2b41c7",
   "metadata": {
    "tags": []
   },
   "outputs": [],
   "source": [
    "# Does not represent the word, rather it tells you which letter to pay attention more. \n",
    "# A set of weights for each character?"
   ]
  },
  {
   "cell_type": "markdown",
   "id": "8e843d24-0f85-478c-b41b-237651a879ef",
   "metadata": {
    "jp-MarkdownHeadingCollapsed": true,
    "tags": []
   },
   "source": [
    "### Classification"
   ]
  },
  {
   "cell_type": "markdown",
   "id": "d46134ad-ead6-4d02-8318-04c1e713e589",
   "metadata": {
    "tags": []
   },
   "source": [
    "#### ToDo:\n",
    "- Represent the words with the bag of letter function described in the Word embedding section.\n",
    "- Train a classifier and display it's accuracy."
   ]
  },
  {
   "cell_type": "code",
   "execution_count": 2,
   "id": "e947f9fe-d5fe-4d49-8ef0-ae34dfd1a45a",
   "metadata": {
    "tags": []
   },
   "outputs": [
    {
     "name": "stdout",
     "output_type": "stream",
     "text": [
      "CPU times: user 7.92 s, sys: 789 ms, total: 8.71 s\n",
      "Wall time: 8.01 s\n"
     ]
    }
   ],
   "source": [
    "%%time\n",
    "# Import required packages\n",
    "from clean_data import Clean_Data\n",
    "import pandas as pd\n",
    "from matplotlib import pyplot as plt\n",
    "import numpy as np\n",
    "from sklearn.neighbors import KNeighborsClassifier\n",
    "from sklearn.metrics import accuracy_score\n",
    "\n",
    "# Load data\n",
    "cleaner = Clean_Data('de_en_vocab_data.txt')\n",
    "df = cleaner.getNouns()"
   ]
  },
  {
   "cell_type": "code",
   "execution_count": 3,
   "id": "f9f7a96f-e3ed-477f-a318-6510b2ef50e6",
   "metadata": {
    "tags": []
   },
   "outputs": [
    {
     "name": "stdout",
     "output_type": "stream",
     "text": [
      "CPU times: user 20.9 s, sys: 1.28 ms, total: 20.9 s\n",
      "Wall time: 20.9 s\n"
     ]
    }
   ],
   "source": [
    "%%time\n",
    "# Create a new column that will contain the numeric representation of each word.\n",
    "df['bag_of_letters'] = df['das_wort'].apply(lambda x: cleaner.bag_of_letters(x))"
   ]
  },
  {
   "cell_type": "code",
   "execution_count": 4,
   "id": "a7e7d6cd-9064-4bd7-b351-1feffc41ce2f",
   "metadata": {
    "tags": []
   },
   "outputs": [],
   "source": [
    "# Prepare the data for model training and evaluation.\n",
    "# Shuffle the whole dataset\n",
    "df_shuffled = df.sample(frac = 1).reset_index(drop=True)\n",
    "# Use 70% of data for training.\n",
    "th = round(df_shuffled.shape[0] * 0.8)\n",
    "x_train = df_shuffled['bag_of_letters'][:th]\n",
    "y_train = df_shuffled['die_artikel'][:th]\n",
    "# Use 30% of data for testing\n",
    "x_test = df_shuffled['bag_of_letters'][th:]\n",
    "y_test = df_shuffled['die_artikel'][th:]"
   ]
  },
  {
   "cell_type": "markdown",
   "id": "6f87a04b-4b65-4620-a170-215f524d1179",
   "metadata": {},
   "source": [
    "It would be interesting to see how the accuracy of the model changes on both the training and testing dataset in the function of number of times the model fitted to the training data.<br>\n",
    "Feedback: KNN does not support incremental training."
   ]
  },
  {
   "cell_type": "code",
   "execution_count": 24,
   "id": "95791440-67c5-4c7a-81de-d068e3f94141",
   "metadata": {
    "tags": []
   },
   "outputs": [],
   "source": [
    "knn = KNeighborsClassifier(n_neighbors=50)"
   ]
  },
  {
   "cell_type": "code",
   "execution_count": 25,
   "id": "50ef8ef2-7fad-4b32-8cdb-23267572474c",
   "metadata": {
    "tags": []
   },
   "outputs": [
    {
     "name": "stdout",
     "output_type": "stream",
     "text": [
      "CPU times: user 335 ms, sys: 7 ms, total: 342 ms\n",
      "Wall time: 340 ms\n"
     ]
    },
    {
     "data": {
      "text/html": [
       "<style>#sk-container-id-7 {\n",
       "  /* Definition of color scheme common for light and dark mode */\n",
       "  --sklearn-color-text: black;\n",
       "  --sklearn-color-line: gray;\n",
       "  /* Definition of color scheme for unfitted estimators */\n",
       "  --sklearn-color-unfitted-level-0: #fff5e6;\n",
       "  --sklearn-color-unfitted-level-1: #f6e4d2;\n",
       "  --sklearn-color-unfitted-level-2: #ffe0b3;\n",
       "  --sklearn-color-unfitted-level-3: chocolate;\n",
       "  /* Definition of color scheme for fitted estimators */\n",
       "  --sklearn-color-fitted-level-0: #f0f8ff;\n",
       "  --sklearn-color-fitted-level-1: #d4ebff;\n",
       "  --sklearn-color-fitted-level-2: #b3dbfd;\n",
       "  --sklearn-color-fitted-level-3: cornflowerblue;\n",
       "\n",
       "  /* Specific color for light theme */\n",
       "  --sklearn-color-text-on-default-background: var(--sg-text-color, var(--theme-code-foreground, var(--jp-content-font-color1, black)));\n",
       "  --sklearn-color-background: var(--sg-background-color, var(--theme-background, var(--jp-layout-color0, white)));\n",
       "  --sklearn-color-border-box: var(--sg-text-color, var(--theme-code-foreground, var(--jp-content-font-color1, black)));\n",
       "  --sklearn-color-icon: #696969;\n",
       "\n",
       "  @media (prefers-color-scheme: dark) {\n",
       "    /* Redefinition of color scheme for dark theme */\n",
       "    --sklearn-color-text-on-default-background: var(--sg-text-color, var(--theme-code-foreground, var(--jp-content-font-color1, white)));\n",
       "    --sklearn-color-background: var(--sg-background-color, var(--theme-background, var(--jp-layout-color0, #111)));\n",
       "    --sklearn-color-border-box: var(--sg-text-color, var(--theme-code-foreground, var(--jp-content-font-color1, white)));\n",
       "    --sklearn-color-icon: #878787;\n",
       "  }\n",
       "}\n",
       "\n",
       "#sk-container-id-7 {\n",
       "  color: var(--sklearn-color-text);\n",
       "}\n",
       "\n",
       "#sk-container-id-7 pre {\n",
       "  padding: 0;\n",
       "}\n",
       "\n",
       "#sk-container-id-7 input.sk-hidden--visually {\n",
       "  border: 0;\n",
       "  clip: rect(1px 1px 1px 1px);\n",
       "  clip: rect(1px, 1px, 1px, 1px);\n",
       "  height: 1px;\n",
       "  margin: -1px;\n",
       "  overflow: hidden;\n",
       "  padding: 0;\n",
       "  position: absolute;\n",
       "  width: 1px;\n",
       "}\n",
       "\n",
       "#sk-container-id-7 div.sk-dashed-wrapped {\n",
       "  border: 1px dashed var(--sklearn-color-line);\n",
       "  margin: 0 0.4em 0.5em 0.4em;\n",
       "  box-sizing: border-box;\n",
       "  padding-bottom: 0.4em;\n",
       "  background-color: var(--sklearn-color-background);\n",
       "}\n",
       "\n",
       "#sk-container-id-7 div.sk-container {\n",
       "  /* jupyter's `normalize.less` sets `[hidden] { display: none; }`\n",
       "     but bootstrap.min.css set `[hidden] { display: none !important; }`\n",
       "     so we also need the `!important` here to be able to override the\n",
       "     default hidden behavior on the sphinx rendered scikit-learn.org.\n",
       "     See: https://github.com/scikit-learn/scikit-learn/issues/21755 */\n",
       "  display: inline-block !important;\n",
       "  position: relative;\n",
       "}\n",
       "\n",
       "#sk-container-id-7 div.sk-text-repr-fallback {\n",
       "  display: none;\n",
       "}\n",
       "\n",
       "div.sk-parallel-item,\n",
       "div.sk-serial,\n",
       "div.sk-item {\n",
       "  /* draw centered vertical line to link estimators */\n",
       "  background-image: linear-gradient(var(--sklearn-color-text-on-default-background), var(--sklearn-color-text-on-default-background));\n",
       "  background-size: 2px 100%;\n",
       "  background-repeat: no-repeat;\n",
       "  background-position: center center;\n",
       "}\n",
       "\n",
       "/* Parallel-specific style estimator block */\n",
       "\n",
       "#sk-container-id-7 div.sk-parallel-item::after {\n",
       "  content: \"\";\n",
       "  width: 100%;\n",
       "  border-bottom: 2px solid var(--sklearn-color-text-on-default-background);\n",
       "  flex-grow: 1;\n",
       "}\n",
       "\n",
       "#sk-container-id-7 div.sk-parallel {\n",
       "  display: flex;\n",
       "  align-items: stretch;\n",
       "  justify-content: center;\n",
       "  background-color: var(--sklearn-color-background);\n",
       "  position: relative;\n",
       "}\n",
       "\n",
       "#sk-container-id-7 div.sk-parallel-item {\n",
       "  display: flex;\n",
       "  flex-direction: column;\n",
       "}\n",
       "\n",
       "#sk-container-id-7 div.sk-parallel-item:first-child::after {\n",
       "  align-self: flex-end;\n",
       "  width: 50%;\n",
       "}\n",
       "\n",
       "#sk-container-id-7 div.sk-parallel-item:last-child::after {\n",
       "  align-self: flex-start;\n",
       "  width: 50%;\n",
       "}\n",
       "\n",
       "#sk-container-id-7 div.sk-parallel-item:only-child::after {\n",
       "  width: 0;\n",
       "}\n",
       "\n",
       "/* Serial-specific style estimator block */\n",
       "\n",
       "#sk-container-id-7 div.sk-serial {\n",
       "  display: flex;\n",
       "  flex-direction: column;\n",
       "  align-items: center;\n",
       "  background-color: var(--sklearn-color-background);\n",
       "  padding-right: 1em;\n",
       "  padding-left: 1em;\n",
       "}\n",
       "\n",
       "\n",
       "/* Toggleable style: style used for estimator/Pipeline/ColumnTransformer box that is\n",
       "clickable and can be expanded/collapsed.\n",
       "- Pipeline and ColumnTransformer use this feature and define the default style\n",
       "- Estimators will overwrite some part of the style using the `sk-estimator` class\n",
       "*/\n",
       "\n",
       "/* Pipeline and ColumnTransformer style (default) */\n",
       "\n",
       "#sk-container-id-7 div.sk-toggleable {\n",
       "  /* Default theme specific background. It is overwritten whether we have a\n",
       "  specific estimator or a Pipeline/ColumnTransformer */\n",
       "  background-color: var(--sklearn-color-background);\n",
       "}\n",
       "\n",
       "/* Toggleable label */\n",
       "#sk-container-id-7 label.sk-toggleable__label {\n",
       "  cursor: pointer;\n",
       "  display: block;\n",
       "  width: 100%;\n",
       "  margin-bottom: 0;\n",
       "  padding: 0.5em;\n",
       "  box-sizing: border-box;\n",
       "  text-align: center;\n",
       "}\n",
       "\n",
       "#sk-container-id-7 label.sk-toggleable__label-arrow:before {\n",
       "  /* Arrow on the left of the label */\n",
       "  content: \"▸\";\n",
       "  float: left;\n",
       "  margin-right: 0.25em;\n",
       "  color: var(--sklearn-color-icon);\n",
       "}\n",
       "\n",
       "#sk-container-id-7 label.sk-toggleable__label-arrow:hover:before {\n",
       "  color: var(--sklearn-color-text);\n",
       "}\n",
       "\n",
       "/* Toggleable content - dropdown */\n",
       "\n",
       "#sk-container-id-7 div.sk-toggleable__content {\n",
       "  max-height: 0;\n",
       "  max-width: 0;\n",
       "  overflow: hidden;\n",
       "  text-align: left;\n",
       "  /* unfitted */\n",
       "  background-color: var(--sklearn-color-unfitted-level-0);\n",
       "}\n",
       "\n",
       "#sk-container-id-7 div.sk-toggleable__content.fitted {\n",
       "  /* fitted */\n",
       "  background-color: var(--sklearn-color-fitted-level-0);\n",
       "}\n",
       "\n",
       "#sk-container-id-7 div.sk-toggleable__content pre {\n",
       "  margin: 0.2em;\n",
       "  border-radius: 0.25em;\n",
       "  color: var(--sklearn-color-text);\n",
       "  /* unfitted */\n",
       "  background-color: var(--sklearn-color-unfitted-level-0);\n",
       "}\n",
       "\n",
       "#sk-container-id-7 div.sk-toggleable__content.fitted pre {\n",
       "  /* unfitted */\n",
       "  background-color: var(--sklearn-color-fitted-level-0);\n",
       "}\n",
       "\n",
       "#sk-container-id-7 input.sk-toggleable__control:checked~div.sk-toggleable__content {\n",
       "  /* Expand drop-down */\n",
       "  max-height: 200px;\n",
       "  max-width: 100%;\n",
       "  overflow: auto;\n",
       "}\n",
       "\n",
       "#sk-container-id-7 input.sk-toggleable__control:checked~label.sk-toggleable__label-arrow:before {\n",
       "  content: \"▾\";\n",
       "}\n",
       "\n",
       "/* Pipeline/ColumnTransformer-specific style */\n",
       "\n",
       "#sk-container-id-7 div.sk-label input.sk-toggleable__control:checked~label.sk-toggleable__label {\n",
       "  color: var(--sklearn-color-text);\n",
       "  background-color: var(--sklearn-color-unfitted-level-2);\n",
       "}\n",
       "\n",
       "#sk-container-id-7 div.sk-label.fitted input.sk-toggleable__control:checked~label.sk-toggleable__label {\n",
       "  background-color: var(--sklearn-color-fitted-level-2);\n",
       "}\n",
       "\n",
       "/* Estimator-specific style */\n",
       "\n",
       "/* Colorize estimator box */\n",
       "#sk-container-id-7 div.sk-estimator input.sk-toggleable__control:checked~label.sk-toggleable__label {\n",
       "  /* unfitted */\n",
       "  background-color: var(--sklearn-color-unfitted-level-2);\n",
       "}\n",
       "\n",
       "#sk-container-id-7 div.sk-estimator.fitted input.sk-toggleable__control:checked~label.sk-toggleable__label {\n",
       "  /* fitted */\n",
       "  background-color: var(--sklearn-color-fitted-level-2);\n",
       "}\n",
       "\n",
       "#sk-container-id-7 div.sk-label label.sk-toggleable__label,\n",
       "#sk-container-id-7 div.sk-label label {\n",
       "  /* The background is the default theme color */\n",
       "  color: var(--sklearn-color-text-on-default-background);\n",
       "}\n",
       "\n",
       "/* On hover, darken the color of the background */\n",
       "#sk-container-id-7 div.sk-label:hover label.sk-toggleable__label {\n",
       "  color: var(--sklearn-color-text);\n",
       "  background-color: var(--sklearn-color-unfitted-level-2);\n",
       "}\n",
       "\n",
       "/* Label box, darken color on hover, fitted */\n",
       "#sk-container-id-7 div.sk-label.fitted:hover label.sk-toggleable__label.fitted {\n",
       "  color: var(--sklearn-color-text);\n",
       "  background-color: var(--sklearn-color-fitted-level-2);\n",
       "}\n",
       "\n",
       "/* Estimator label */\n",
       "\n",
       "#sk-container-id-7 div.sk-label label {\n",
       "  font-family: monospace;\n",
       "  font-weight: bold;\n",
       "  display: inline-block;\n",
       "  line-height: 1.2em;\n",
       "}\n",
       "\n",
       "#sk-container-id-7 div.sk-label-container {\n",
       "  text-align: center;\n",
       "}\n",
       "\n",
       "/* Estimator-specific */\n",
       "#sk-container-id-7 div.sk-estimator {\n",
       "  font-family: monospace;\n",
       "  border: 1px dotted var(--sklearn-color-border-box);\n",
       "  border-radius: 0.25em;\n",
       "  box-sizing: border-box;\n",
       "  margin-bottom: 0.5em;\n",
       "  /* unfitted */\n",
       "  background-color: var(--sklearn-color-unfitted-level-0);\n",
       "}\n",
       "\n",
       "#sk-container-id-7 div.sk-estimator.fitted {\n",
       "  /* fitted */\n",
       "  background-color: var(--sklearn-color-fitted-level-0);\n",
       "}\n",
       "\n",
       "/* on hover */\n",
       "#sk-container-id-7 div.sk-estimator:hover {\n",
       "  /* unfitted */\n",
       "  background-color: var(--sklearn-color-unfitted-level-2);\n",
       "}\n",
       "\n",
       "#sk-container-id-7 div.sk-estimator.fitted:hover {\n",
       "  /* fitted */\n",
       "  background-color: var(--sklearn-color-fitted-level-2);\n",
       "}\n",
       "\n",
       "/* Specification for estimator info (e.g. \"i\" and \"?\") */\n",
       "\n",
       "/* Common style for \"i\" and \"?\" */\n",
       "\n",
       ".sk-estimator-doc-link,\n",
       "a:link.sk-estimator-doc-link,\n",
       "a:visited.sk-estimator-doc-link {\n",
       "  float: right;\n",
       "  font-size: smaller;\n",
       "  line-height: 1em;\n",
       "  font-family: monospace;\n",
       "  background-color: var(--sklearn-color-background);\n",
       "  border-radius: 1em;\n",
       "  height: 1em;\n",
       "  width: 1em;\n",
       "  text-decoration: none !important;\n",
       "  margin-left: 1ex;\n",
       "  /* unfitted */\n",
       "  border: var(--sklearn-color-unfitted-level-1) 1pt solid;\n",
       "  color: var(--sklearn-color-unfitted-level-1);\n",
       "}\n",
       "\n",
       ".sk-estimator-doc-link.fitted,\n",
       "a:link.sk-estimator-doc-link.fitted,\n",
       "a:visited.sk-estimator-doc-link.fitted {\n",
       "  /* fitted */\n",
       "  border: var(--sklearn-color-fitted-level-1) 1pt solid;\n",
       "  color: var(--sklearn-color-fitted-level-1);\n",
       "}\n",
       "\n",
       "/* On hover */\n",
       "div.sk-estimator:hover .sk-estimator-doc-link:hover,\n",
       ".sk-estimator-doc-link:hover,\n",
       "div.sk-label-container:hover .sk-estimator-doc-link:hover,\n",
       ".sk-estimator-doc-link:hover {\n",
       "  /* unfitted */\n",
       "  background-color: var(--sklearn-color-unfitted-level-3);\n",
       "  color: var(--sklearn-color-background);\n",
       "  text-decoration: none;\n",
       "}\n",
       "\n",
       "div.sk-estimator.fitted:hover .sk-estimator-doc-link.fitted:hover,\n",
       ".sk-estimator-doc-link.fitted:hover,\n",
       "div.sk-label-container:hover .sk-estimator-doc-link.fitted:hover,\n",
       ".sk-estimator-doc-link.fitted:hover {\n",
       "  /* fitted */\n",
       "  background-color: var(--sklearn-color-fitted-level-3);\n",
       "  color: var(--sklearn-color-background);\n",
       "  text-decoration: none;\n",
       "}\n",
       "\n",
       "/* Span, style for the box shown on hovering the info icon */\n",
       ".sk-estimator-doc-link span {\n",
       "  display: none;\n",
       "  z-index: 9999;\n",
       "  position: relative;\n",
       "  font-weight: normal;\n",
       "  right: .2ex;\n",
       "  padding: .5ex;\n",
       "  margin: .5ex;\n",
       "  width: min-content;\n",
       "  min-width: 20ex;\n",
       "  max-width: 50ex;\n",
       "  color: var(--sklearn-color-text);\n",
       "  box-shadow: 2pt 2pt 4pt #999;\n",
       "  /* unfitted */\n",
       "  background: var(--sklearn-color-unfitted-level-0);\n",
       "  border: .5pt solid var(--sklearn-color-unfitted-level-3);\n",
       "}\n",
       "\n",
       ".sk-estimator-doc-link.fitted span {\n",
       "  /* fitted */\n",
       "  background: var(--sklearn-color-fitted-level-0);\n",
       "  border: var(--sklearn-color-fitted-level-3);\n",
       "}\n",
       "\n",
       ".sk-estimator-doc-link:hover span {\n",
       "  display: block;\n",
       "}\n",
       "\n",
       "/* \"?\"-specific style due to the `<a>` HTML tag */\n",
       "\n",
       "#sk-container-id-7 a.estimator_doc_link {\n",
       "  float: right;\n",
       "  font-size: 1rem;\n",
       "  line-height: 1em;\n",
       "  font-family: monospace;\n",
       "  background-color: var(--sklearn-color-background);\n",
       "  border-radius: 1rem;\n",
       "  height: 1rem;\n",
       "  width: 1rem;\n",
       "  text-decoration: none;\n",
       "  /* unfitted */\n",
       "  color: var(--sklearn-color-unfitted-level-1);\n",
       "  border: var(--sklearn-color-unfitted-level-1) 1pt solid;\n",
       "}\n",
       "\n",
       "#sk-container-id-7 a.estimator_doc_link.fitted {\n",
       "  /* fitted */\n",
       "  border: var(--sklearn-color-fitted-level-1) 1pt solid;\n",
       "  color: var(--sklearn-color-fitted-level-1);\n",
       "}\n",
       "\n",
       "/* On hover */\n",
       "#sk-container-id-7 a.estimator_doc_link:hover {\n",
       "  /* unfitted */\n",
       "  background-color: var(--sklearn-color-unfitted-level-3);\n",
       "  color: var(--sklearn-color-background);\n",
       "  text-decoration: none;\n",
       "}\n",
       "\n",
       "#sk-container-id-7 a.estimator_doc_link.fitted:hover {\n",
       "  /* fitted */\n",
       "  background-color: var(--sklearn-color-fitted-level-3);\n",
       "}\n",
       "</style><div id=\"sk-container-id-7\" class=\"sk-top-container\"><div class=\"sk-text-repr-fallback\"><pre>KNeighborsClassifier(n_neighbors=50)</pre><b>In a Jupyter environment, please rerun this cell to show the HTML representation or trust the notebook. <br />On GitHub, the HTML representation is unable to render, please try loading this page with nbviewer.org.</b></div><div class=\"sk-container\" hidden><div class=\"sk-item\"><div class=\"sk-estimator fitted sk-toggleable\"><input class=\"sk-toggleable__control sk-hidden--visually\" id=\"sk-estimator-id-7\" type=\"checkbox\" checked><label for=\"sk-estimator-id-7\" class=\"sk-toggleable__label fitted sk-toggleable__label-arrow fitted\">&nbsp;&nbsp;KNeighborsClassifier<a class=\"sk-estimator-doc-link fitted\" rel=\"noreferrer\" target=\"_blank\" href=\"https://scikit-learn.org/1.5/modules/generated/sklearn.neighbors.KNeighborsClassifier.html\">?<span>Documentation for KNeighborsClassifier</span></a><span class=\"sk-estimator-doc-link fitted\">i<span>Fitted</span></span></label><div class=\"sk-toggleable__content fitted\"><pre>KNeighborsClassifier(n_neighbors=50)</pre></div> </div></div></div></div>"
      ],
      "text/plain": [
       "KNeighborsClassifier(n_neighbors=50)"
      ]
     },
     "execution_count": 25,
     "metadata": {},
     "output_type": "execute_result"
    }
   ],
   "source": [
    "%%time\n",
    "knn.fit(list(x_train), y_train)"
   ]
  },
  {
   "cell_type": "code",
   "execution_count": 26,
   "id": "13c6a954-2c99-46d2-864b-68a2de103420",
   "metadata": {
    "tags": []
   },
   "outputs": [
    {
     "name": "stdout",
     "output_type": "stream",
     "text": [
      "0.5853133117911677\n"
     ]
    }
   ],
   "source": [
    "y_pred = knn.predict(list(x_test))\n",
    "print(accuracy_score(y_test, y_pred))"
   ]
  },
  {
   "cell_type": "code",
   "execution_count": 28,
   "id": "92efbb09-339a-4844-a79c-5335c8066979",
   "metadata": {
    "tags": []
   },
   "outputs": [
    {
     "name": "stdout",
     "output_type": "stream",
     "text": [
      "CPU times: user 52.6 s, sys: 30 ms, total: 52.7 s\n",
      "Wall time: 14.1 s\n"
     ]
    },
    {
     "data": {
      "text/plain": [
       "0.5853133117911677"
      ]
     },
     "execution_count": 28,
     "metadata": {},
     "output_type": "execute_result"
    }
   ],
   "source": [
    "%%time\n",
    "knn.score(list(x_test), y_test)"
   ]
  },
  {
   "cell_type": "markdown",
   "id": "e66a4318-73ac-414a-b215-162febdbb4ad",
   "metadata": {},
   "source": [
    "I just realized that the bag of letters representation is bad in the sense of information on letter order. Apparently the bag of letter operation is one-way. To recreate a word from the one hot encoded version is straightforward. But bag of letters will represent the string 'book' and 'okob' exactly the same way. The problem with describing words as a series of one hot encoded letters is that word representations will have inhomogenous dimension."
   ]
  },
  {
   "cell_type": "markdown",
   "id": "66e4b7e8-bfca-4ada-a049-54ef5e3cf77e",
   "metadata": {
    "jp-MarkdownHeadingCollapsed": true,
    "tags": []
   },
   "source": [
    "### Conclusion & Further directions"
   ]
  },
  {
   "cell_type": "markdown",
   "id": "be7ccef9-8506-4ee9-9523-c6e2677a8aa0",
   "metadata": {},
   "source": [
    "An awesome 58% accuracy. It is better than if we would just guess randomly or classify each entry as being part of the most populated class. There is still place to grow."
   ]
  },
  {
   "cell_type": "markdown",
   "id": "c00481e8-49ba-45ae-b353-ff8832c1c2aa",
   "metadata": {},
   "source": [
    "It is possible to predict the gender of a German noun just by looking at the number of different type of letters present in the word.<br>\n",
    "In terms of language learning, the whole project does not add a lot, since most of the time it is about coding and not looking at words. The result is interesting but adds no value to learning because there is no way someone would start to count the number of unique letters present in a word. The research part adds value since I learned how can one predict genders by looking at suffixes. It is both written in the article by GermanWithLaura and proved by the work of FKDPLC from Kaggle. Based on their work, I would say, one could predict the gender of the word just by looking at with approximately 80% accuracy.<br>\n",
    "In terms of learning NLP, I learned how to represent words and text in the most basic way, and interpreted that into the context of this project. I definitely consider it useful.<br>\n",
    "The most value is in practicing the operations on daraframes. Both cleaning and visualizing the data required me to focus and think.<br>\n"
   ]
  },
  {
   "cell_type": "markdown",
   "id": "c938432f-ca5b-4440-b3a6-eb60595edb9c",
   "metadata": {
    "tags": []
   },
   "source": [
    "It would be awesome to top the 80% boundary shown by previous work.<br>\n",
    "A game option, to play against the model and see who does better.<br>\n",
    "Use of a more sophisticated word representation."
   ]
  }
 ],
 "metadata": {
  "kernelspec": {
   "display_name": "nlp3.11",
   "language": "python",
   "name": "python3"
  },
  "language_info": {
   "codemirror_mode": {
    "name": "ipython",
    "version": 3
   },
   "file_extension": ".py",
   "mimetype": "text/x-python",
   "name": "python",
   "nbconvert_exporter": "python",
   "pygments_lexer": "ipython3",
   "version": "3.11.10"
  }
 },
 "nbformat": 4,
 "nbformat_minor": 5
}
