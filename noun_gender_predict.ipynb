{
 "cells": [
  {
   "cell_type": "code",
   "execution_count": 60,
   "id": "a8a20576-1bd0-4faa-b77d-731b4e0bd356",
   "metadata": {
    "tags": []
   },
   "outputs": [],
   "source": [
    "# 2024.10.27\n",
    "# 2024.10.28\n",
    "# 2024.10.29"
   ]
  },
  {
   "cell_type": "markdown",
   "id": "7f03a990-b77e-47bd-8c05-1d055cac217c",
   "metadata": {
    "jp-MarkdownHeadingCollapsed": true,
    "tags": []
   },
   "source": [
    "### Project description"
   ]
  },
  {
   "cell_type": "markdown",
   "id": "204d8cd6-bfef-47aa-ac04-f678b6302b3d",
   "metadata": {
    "tags": []
   },
   "source": [
    "Welcome my latests project. Here, the goal is to predict the gender of german nouns based with a machine learning model. is it possible to find a relation between the structure of textual information and the gender of the word it represents? <br>\n",
    "To clarify the work's raison d'être, I answer Kipling's Six Honest Questions below. (Descriptions are provided by the built-in AI assistant in Brave's search engine.)\n",
    "- **Who?** - *Identifying the individuals or entities involved in a situation or event.* - This is a solo project, so I am responsible to reach project-goals. I also need an entity, that acts as the **source of data** and one which equips me with **up-to-date knowledge**.\n",
    "- **What?** - *Describing the actions, events, or circumstances being observed or experienced.* - widen perspective by reading $n$ articles, **set time constraints** and befriend them, experience from start to finish, **an Aha! moment**, vocabulary increase, born of a tool and/or educational material.\n",
    "- **When?** - *Determining the timing or sequence of events.* - **Research** on the topic (read *articles* on german noun *articles*). Identify the requirements related to the **structure and quantity of data**. Consider different sources, **acquire a dataset** and describe the reason for decision. Define how the data is being **stored and accessed**. Study and try multiple **word-representation** methods. Consider machine-learning solutions to find the most suited for **classification** of datapoints. Describe observations and **conclusions** (performance metrics, linguistic relation). Explain possible **improvements** and **future directions**. A span of next five workdays (presentation on Friday).\n",
    "- **Where?** - *Locating the the setting or context in which events occur.* - German language learning. *Abstract representation of natural language.* Application of machine learning solutions. Hobby horse. Portfolio. \n",
    "- **Why?** - *Exploring the reasons or motivations behind actions or events.* - To learn how language can be represented in the area of NLP. To discover unseen relations between words and their articles. To learn the language on the go. To practice retrieving, storing, cleaning and processing data. Zu genießen.\n",
    "- **How?** - *Investigating the methods or processes used to achieve a particular outcome.* - Linux and anaconda environments. Git and GitHub. Python, Bash script and SQL. VSCode, Jupyter Lab. \n",
    "\n",
    "..."
   ]
  },
  {
   "cell_type": "markdown",
   "id": "0f732122-a7cc-49b7-901f-8b4c5d5f96fe",
   "metadata": {
    "jupyter": {
     "source_hidden": true
    },
    "tags": []
   },
   "source": [
    "<div style=\"text-align: center; font-weight: bold; font-size: 1.5em;\">\n",
    "    I Keep Six Honest Serving Men\n",
    "    <br><br>\n",
    "</div>\n",
    "\n",
    "<div style=\"text-align: center; font-style: italic;\">\n",
    "    I KEEP six honest serving-men<br>\n",
    "    (They taught me all I knew);<br>\n",
    "    Their names are What and Why and When<br>\n",
    "    And How and Where and Who.<br>\n",
    "    I send them over land and sea,<br>\n",
    "    I send them east and west;<br>\n",
    "    But after they have worked for me,<br>\n",
    "    I give them all a rest.<br><br>\n",
    "    I let them rest from nine till five,<br>\n",
    "    For I am busy then,<br>\n",
    "    As well as breakfast, lunch, and tea,<br>\n",
    "    For they are hungry men.<br>\n",
    "    But different folk have different views;<br>\n",
    "    I know a person small—<br>\n",
    "    She keeps ten million serving-men,<br>\n",
    "    Who get no rest at all!<br><br>\n",
    "    She sends ’em abroad on her own affairs,<br>\n",
    "    From the second she opens her eyes—<br>\n",
    "    One million Hows, two million Wheres,<br>\n",
    "    And seven million Whys!<br><br>\n",
    "</div>\n",
    "\n",
    "<div style=\"text-align: right; font-weight: bold; font-style: italic;\">\n",
    "    Rudyard Kipling\n",
    "</div>\n"
   ]
  },
  {
   "cell_type": "markdown",
   "id": "29f89cac-05e9-4cf0-86bd-bb891630dc8b",
   "metadata": {
    "jp-MarkdownHeadingCollapsed": true,
    "tags": []
   },
   "source": [
    "### Research on german nouns and their articles"
   ]
  },
  {
   "cell_type": "markdown",
   "id": "698d8acb-0bb5-495f-bc82-c47f3c2c7adc",
   "metadata": {
    "tags": []
   },
   "source": [
    "Every noun has been assigned a gender: feminine, masculine and neutral. \n",
    "https://www.thegermanproject.com/german-lessons/nouns<br>\n",
    "The article says that: \"unfortunately, there aren't too many rules that determine which kinds of words will have which genders\".<br>\n",
    "https://germanwithlaura.com/noun-gender/<br>\n",
    "The states in the beginning: \"Well, what if I tell you that there are actually tips and tricks to help you accurately predict the gender of any noun a good 80% of the time?\". Well, if I can predict the genders with 80% accuracy then I want to build a model which tops that. \"...based on... ready for this?... how the word is spelled.\" Oh! Right? I might be creative to represent the spelling of words! \"The gender of almost any German noun is determined by its form - especially *suffixes*, which are little endings such as -at, -ion, -ung, -ig, -um, and more.\" I am telling you that these are features a model could consider!<br>\n",
    "\"Nouns can be lumped together according to: 1. Noun groups (specific topic groups associated with particular genders) e.g. all months of the year are masculine 2. Noun forms (specific spelling patterns associated with particular genders) e.g. all nouns ending in -ung are feminine.\"<br> Is it possible to *cluster words* based on their relation to topics? Is it possible for a model to have a set of word representations where related words have similar representation in a sense (along a feature)? <br> I also realized that spelling is not pronunciation... this makes me optimistic about sufficent information content of word-abstraction.<br>\n",
    "The article lists noun-groups associated with each gender.<br>\n",
    "https://data-dive.com/german-nlp-binary-text-classification-of-reviews-part1/<br>\n",
    "Predict rating/sentiment of a comment. Doctor reviews written in german. It offers to download a notebook and follow along. TF-IDF already mentioned and I feel familiar here.\n",
    " - https://www.nltk.org/ - for dealing with text related tasks. It is an open source and community driven project. *Computational linguistics* using Python.\n",
    " - https://scikit-learn.org/ - To enjoy machine learning. Reading the latest stuff...\n",
    " \n",
    "Note on data cleaning: let it be, because the basic principle is trash-in trash-out.\n",
    " - https://www.geeksforgeeks.org/word-embeddings-in-nlp/ - So basically, this is what I mean by word-representations. \"It allows words with similar meaning to have a similar representation.\"<br>\n",
    " A *sparse matrix* is a matrix in which most of the elements are zero. In contrast, a matrix in which most elements are nonzero called, dense. One-hot encoding is always the first... is it because it is basic?... still, it's hot.<br>\n",
    " Can I understand sentences as documents? TF-IDF can then filter out words like 'is'. There are plenty of it in a sentence but occurs in plenty sentences.\n",
    "\n",
    "Throw out words that does not present additional information/meaning for a model (at least for a simple one).\n",
    "Python map() function to adjust type of elements in a container. \n",
    "TO BE CONTINUED...<br>\n",
    "https://www.kaggle.com/code/fkdplc/german-nouns-gender-analysis/notebook<br>\n",
    "Classified with 80% accuracy based on word length and postfixes.\n",
    "https://opendata.stackexchange.com/questions/17787/german-nouns<br>\n",
    "A comment describes sources of data and that \"... Nominativ, Akkusativ, Dativ, Genitiv! ... It's a long story :D\"<br>\n",
    "Mentions dict.cc which contains about 334k words! The nouns.csv I have has 116k lines for comparison. (I know, I did not mention it before.) It is a big dictionary! It even offers vocabulary practice. A little translator can be put in use on a website. The creator is riding his hobby horse in the name of development.\n",
    "Lemma refers to the canonical form of a word in a non-mathematical context."
   ]
  },
  {
   "cell_type": "markdown",
   "id": "6e8836ff-08c6-44bb-aedd-9136d9f7a58d",
   "metadata": {
    "jp-MarkdownHeadingCollapsed": true,
    "tags": []
   },
   "source": [
    "### Getting data"
   ]
  },
  {
   "cell_type": "markdown",
   "id": "ffec5c4a-ac62-4854-b1d8-56c331f4cad5",
   "metadata": {
    "tags": []
   },
   "source": [
    "#### Requirements\n",
    "24.10.28\n",
    "German nouns with articles. At least *42k words*. Data-table would be **| word | repr. of der/die/das | +plural form |**. (As a plus dataset could be balanced if more words are available - relevant after dataset creation)\n",
    "#### Sources\n",
    "One of the entities providing data is **dict.cc** (https://www.dict.cc/). The creator and maintainer of the site, offers data for personal use and for programming projects which meet GNU general public license (https://www.gnu.org/licenses/gpl-3.0.html). If you want to run the code you have to request your own copy of data from the owner. So, data.\n",
    " - Unicode text, UTF-8 text, with very long lines (307)\n",
    " - How to use *stat* in the shell to display file information? *ls -lh _.txt does the job.*\n",
    " - It is 72 Mbytes big.\n",
    " \n",
    "First I attemt to wrap the data into a 🐼s dataframe.\n",
    "#### Feedback\n",
    "24.10.29 - The source of data is ok. Both it's quality and amount is sufficent for the project.<br>\n",
    "The process of building a data table in the desired form was excitingly cumbersome but pretty straightforward. The code in this section is compressed into *clean_data.py*.<br>\n",
    "No plural form was included."
   ]
  },
  {
   "cell_type": "code",
   "execution_count": 3,
   "id": "5aa9cf0e-bba0-4e6e-aef2-60918b4d3c3f",
   "metadata": {
    "tags": []
   },
   "outputs": [],
   "source": [
    "# Útravaló\n",
    "import numpy as np\n",
    "import pandas as pd\n",
    "from matplotlib import pyplot as plt"
   ]
  },
  {
   "cell_type": "code",
   "execution_count": 1,
   "id": "51bc74dc-e4da-4253-a871-73dd3ff73058",
   "metadata": {
    "tags": []
   },
   "outputs": [
    {
     "name": "stdout",
     "output_type": "stream",
     "text": [
      "The whole dictionary is a line of characters... crazy!\n",
      "Type: <class 'str'>  Size (number of characters): 74507935\n"
     ]
    }
   ],
   "source": [
    "# Open the text file and save it in a Python variable\n",
    "with open('de_en_vocab_data.txt', 'r') as file:\n",
    "    data = file.read()\n",
    "print('The whole dictionary is a line of characters... crazy!')\n",
    "print('Type:', type(data),' Size (number of characters):', len(data))"
   ]
  },
  {
   "cell_type": "code",
   "execution_count": 62,
   "id": "8e6b8792-28f9-4395-a34f-8357f74040fd",
   "metadata": {
    "collapsed": true,
    "jupyter": {
     "outputs_hidden": true,
     "source_hidden": true
    },
    "tags": []
   },
   "outputs": [
    {
     "name": "stdout",
     "output_type": "stream",
     "text": [
      "[47, 32, 65, 102, 105, 58, 104, 88, 0, 50, 82, 66, 43, 307, 50, 33, 60, 65, 36, 34]\n",
      "num_of_tabs | lines_with_that_num_of_tabs\n"
     ]
    },
    {
     "data": {
      "text/plain": [
       "3    53\n",
       "1     8\n",
       "0     2\n",
       "Name: count, dtype: int64"
      ]
     },
     "execution_count": 62,
     "metadata": {},
     "output_type": "execute_result"
    }
   ],
   "source": [
    "# Idea: replace tabs with commas, save the string as a .csv and import that into a pddf with pd.read_csv()\n",
    "# Outcome: split the string into a 2D array along delimiters and create a DataFrame using that.\n",
    "\n",
    "# Examine a part of text.\n",
    "sample = data[:4000]\n",
    "\n",
    "# Count the number of tabs is each line and keep them.\n",
    "# + Check the number of characters in each line\n",
    "tabs = list()\n",
    "lin_len = list()\n",
    "\n",
    "for line in sample.split('\\n'): # splitting string along newlines\n",
    "    tabs.append(line.count('\\t')) # splitting string along tabs\n",
    "    lin_len.append(len(line)) \n",
    "    \n",
    "# Display information\n",
    "print(lin_len[:20])\n",
    "print('num_of_tabs | lines_with_that_num_of_tabs')\n",
    "pd.Series(tabs).value_counts()"
   ]
  },
  {
   "cell_type": "markdown",
   "id": "d2a0275b-2e21-4228-a393-bf0fa7f0e2aa",
   "metadata": {},
   "source": [
    "Lines contain 3 tabs except for 10 of them. Those lines are in the first 4000 characters of the whole string - at the beginning of the document but it does not really matter where they are. Let us get rid of those."
   ]
  },
  {
   "cell_type": "code",
   "execution_count": 11,
   "id": "5f2014fb-9062-4dff-bed0-06a58e033622",
   "metadata": {
    "tags": []
   },
   "outputs": [],
   "source": [
    "# Create a container for holding lines found in data\n",
    "lines = [i for i in data.split('\\n')]\n",
    "\n",
    "# Keep lines which contain 3 tabs\n",
    "lines = [i for i in lines if i.count('\\t') == 3]\n",
    "\n",
    "# Split the lines along tabs. The result is a 2d matrix.\n",
    "data_mat = [i.split('\\t') for i in lines]"
   ]
  },
  {
   "cell_type": "code",
   "execution_count": 12,
   "id": "61e3e1fe-7067-4c94-879a-43701b89c581",
   "metadata": {
    "tags": []
   },
   "outputs": [],
   "source": [
    "# Build a dataframe\n",
    "df = pd.DataFrame(data_mat, columns=['name_it_' + str(i+1) for i in range(4)])"
   ]
  },
  {
   "cell_type": "code",
   "execution_count": 13,
   "id": "886a0bb3-2d71-422c-ac93-f31fbbad4764",
   "metadata": {
    "tags": []
   },
   "outputs": [],
   "source": [
    "# Save the dataframe as a .csv | Eigentlich the rows with 3 tabs.\n",
    "df.to_csv('de_en_vocab.csv', sep='\\t', index=False)"
   ]
  },
  {
   "cell_type": "code",
   "execution_count": 63,
   "id": "1ada6376-1d33-4a39-8be3-1a899b62fb41",
   "metadata": {
    "tags": []
   },
   "outputs": [
    {
     "name": "stdout",
     "output_type": "stream",
     "text": [
      "Number of rows: 1284306\n"
     ]
    },
    {
     "data": {
      "text/html": [
       "<div>\n",
       "<style scoped>\n",
       "    .dataframe tbody tr th:only-of-type {\n",
       "        vertical-align: middle;\n",
       "    }\n",
       "\n",
       "    .dataframe tbody tr th {\n",
       "        vertical-align: top;\n",
       "    }\n",
       "\n",
       "    .dataframe thead th {\n",
       "        text-align: right;\n",
       "    }\n",
       "</style>\n",
       "<table border=\"1\" class=\"dataframe\">\n",
       "  <thead>\n",
       "    <tr style=\"text-align: right;\">\n",
       "      <th></th>\n",
       "      <th>name_it_1</th>\n",
       "      <th>name_it_2</th>\n",
       "      <th>name_it_3</th>\n",
       "      <th>name_it_4</th>\n",
       "    </tr>\n",
       "  </thead>\n",
       "  <tbody>\n",
       "    <tr>\n",
       "      <th>0</th>\n",
       "      <td>&amp;#945;-Keratin {n}</td>\n",
       "      <td>&amp;#945;-keratin</td>\n",
       "      <td>noun</td>\n",
       "      <td>[biochem.]</td>\n",
       "    </tr>\n",
       "    <tr>\n",
       "      <th>1</th>\n",
       "      <td>&amp;#945;-Lactalbumin {n} &lt;&amp;#945;-La&gt;</td>\n",
       "      <td>&amp;#945;-lactalbumin &lt;&amp;#945;-La&gt;</td>\n",
       "      <td>noun</td>\n",
       "      <td>[biochem.]</td>\n",
       "    </tr>\n",
       "    <tr>\n",
       "      <th>2</th>\n",
       "      <td>&amp;#946;-Mercaptoethanol {n}</td>\n",
       "      <td>&amp;#946;-mercaptoethanol</td>\n",
       "      <td>noun</td>\n",
       "      <td>[biochem.]</td>\n",
       "    </tr>\n",
       "    <tr>\n",
       "      <th>3</th>\n",
       "      <td>&amp; Co.</td>\n",
       "      <td>and company &lt;&amp; Co.&gt;</td>\n",
       "      <td></td>\n",
       "      <td>[comm.] [econ.]</td>\n",
       "    </tr>\n",
       "    <tr>\n",
       "      <th>4</th>\n",
       "      <td>'Die' heißt mein Unterrock, und 'der' hängt im...</td>\n",
       "      <td>'She' is the cat's mother. [used to encourage ...</td>\n",
       "      <td></td>\n",
       "      <td>[idiom]</td>\n",
       "    </tr>\n",
       "  </tbody>\n",
       "</table>\n",
       "</div>"
      ],
      "text/plain": [
       "                                           name_it_1  \\\n",
       "0                                 &#945;-Keratin {n}   \n",
       "1                 &#945;-Lactalbumin {n} <&#945;-La>   \n",
       "2                         &#946;-Mercaptoethanol {n}   \n",
       "3                                              & Co.   \n",
       "4  'Die' heißt mein Unterrock, und 'der' hängt im...   \n",
       "\n",
       "                                           name_it_2 name_it_3  \\\n",
       "0                                     &#945;-keratin      noun   \n",
       "1                     &#945;-lactalbumin <&#945;-La>      noun   \n",
       "2                             &#946;-mercaptoethanol      noun   \n",
       "3                                and company <& Co.>             \n",
       "4  'She' is the cat's mother. [used to encourage ...             \n",
       "\n",
       "          name_it_4  \n",
       "0       [biochem.]   \n",
       "1       [biochem.]   \n",
       "2       [biochem.]   \n",
       "3  [comm.] [econ.]   \n",
       "4          [idiom]   "
      ]
     },
     "execution_count": 63,
     "metadata": {},
     "output_type": "execute_result"
    }
   ],
   "source": [
    "# Display the first few rows.\n",
    "# Hübsch isn't it?\n",
    "print(f'Number of rows: {df.shape[0]}')\n",
    "df.head(5)\n"
   ]
  },
  {
   "cell_type": "code",
   "execution_count": 64,
   "id": "b9b10d9e-758a-4ab5-8572-f4f961570c5b",
   "metadata": {
    "tags": []
   },
   "outputs": [
    {
     "name": "stdout",
     "output_type": "stream",
     "text": [
      "Number of unique values: 61\n"
     ]
    },
    {
     "data": {
      "image/png": "[encoded data removed]",
      "text/plain": [
       "<Figure size 1000x300 with 1 Axes>"
      ]
     },
     "metadata": {},
     "output_type": "display_data"
    }
   ],
   "source": [
    "# Check out the distribution of part of speeches.\n",
    "sample_col = df['name_it_3']\n",
    "print(f'Number of unique values: {np.unique(sample_col).size}')\n",
    "fig, axes = plt.subplots(figsize=(10, 3))\n",
    "plt.yscale('log')\n",
    "plt.xticks(rotation=45)\n",
    "axes.hist(sample_col, bins=np.unique(sample_col).size);\n",
    "plt.show()"
   ]
  },
  {
   "cell_type": "markdown",
   "id": "881121df-a451-445b-8201-ed76aae4cc95",
   "metadata": {},
   "source": [
    "Clearly the third column describes the *part of speech*. The visual could be polished, but it is visible that the most pupulated (note the logarithmic scale of the y axis) type is *noun* - which we need in this case to use it as a filter for words."
   ]
  },
  {
   "cell_type": "code",
   "execution_count": 17,
   "id": "1dbd68b7-ecba-44fb-bb1d-76cc1208b653",
   "metadata": {
    "tags": []
   },
   "outputs": [
    {
     "name": "stdout",
     "output_type": "stream",
     "text": [
      "901269.0\n"
     ]
    },
    {
     "data": {
      "text/html": [
       "<div>\n",
       "<style scoped>\n",
       "    .dataframe tbody tr th:only-of-type {\n",
       "        vertical-align: middle;\n",
       "    }\n",
       "\n",
       "    .dataframe tbody tr th {\n",
       "        vertical-align: top;\n",
       "    }\n",
       "\n",
       "    .dataframe thead th {\n",
       "        text-align: right;\n",
       "    }\n",
       "</style>\n",
       "<table border=\"1\" class=\"dataframe\">\n",
       "  <thead>\n",
       "    <tr style=\"text-align: right;\">\n",
       "      <th></th>\n",
       "      <th>german</th>\n",
       "      <th>english</th>\n",
       "      <th>part_of_speech</th>\n",
       "      <th>der_Bereich</th>\n",
       "    </tr>\n",
       "  </thead>\n",
       "  <tbody>\n",
       "    <tr>\n",
       "      <th>0</th>\n",
       "      <td>&amp;#945;-Keratin {n}</td>\n",
       "      <td>&amp;#945;-keratin</td>\n",
       "      <td>noun</td>\n",
       "      <td>[biochem.]</td>\n",
       "    </tr>\n",
       "    <tr>\n",
       "      <th>1</th>\n",
       "      <td>&amp;#945;-Lactalbumin {n} &lt;&amp;#945;-La&gt;</td>\n",
       "      <td>&amp;#945;-lactalbumin &lt;&amp;#945;-La&gt;</td>\n",
       "      <td>noun</td>\n",
       "      <td>[biochem.]</td>\n",
       "    </tr>\n",
       "    <tr>\n",
       "      <th>2</th>\n",
       "      <td>&amp;#946;-Mercaptoethanol {n}</td>\n",
       "      <td>&amp;#946;-mercaptoethanol</td>\n",
       "      <td>noun</td>\n",
       "      <td>[biochem.]</td>\n",
       "    </tr>\n",
       "    <tr>\n",
       "      <th>7</th>\n",
       "      <td>'Nduja {f} [auch: Nduja]</td>\n",
       "      <td>'nduja [also: nduja]</td>\n",
       "      <td>noun</td>\n",
       "      <td>[gastr.]</td>\n",
       "    </tr>\n",
       "    <tr>\n",
       "      <th>23</th>\n",
       "      <td>(4) Vesta {f}</td>\n",
       "      <td>(4) Vesta [asteroid]</td>\n",
       "      <td>noun</td>\n",
       "      <td>[astron.]</td>\n",
       "    </tr>\n",
       "  </tbody>\n",
       "</table>\n",
       "</div>"
      ],
      "text/plain": [
       "                                german                         english  \\\n",
       "0                   &#945;-Keratin {n}                  &#945;-keratin   \n",
       "1   &#945;-Lactalbumin {n} <&#945;-La>  &#945;-lactalbumin <&#945;-La>   \n",
       "2           &#946;-Mercaptoethanol {n}          &#946;-mercaptoethanol   \n",
       "7             'Nduja {f} [auch: Nduja]            'nduja [also: nduja]   \n",
       "23                       (4) Vesta {f}            (4) Vesta [asteroid]   \n",
       "\n",
       "   part_of_speech  der_Bereich  \n",
       "0            noun  [biochem.]   \n",
       "1            noun  [biochem.]   \n",
       "2            noun  [biochem.]   \n",
       "7            noun    [gastr.]   \n",
       "23           noun   [astron.]   "
      ]
     },
     "execution_count": 17,
     "metadata": {},
     "output_type": "execute_result"
    }
   ],
   "source": [
    "# Create a new dataframe which contain nouns\n",
    "df_noun = df[df['name_it_3'] == 'noun']\n",
    "\n",
    "# Rename the third column as it is now clear.\n",
    "# Rename other columns as I understand. 19:11 on 10.28.24\n",
    "df_noun = df_noun.rename(columns={'name_it_3' : 'part_of_speech', 'name_it_1' : 'german', 'name_it_2' : 'english', 'name_it_4' : 'der_Bereich'})\n",
    "print(df_noun.size/4) # number of entries\n",
    "df_noun.head(5)"
   ]
  },
  {
   "cell_type": "code",
   "execution_count": 18,
   "id": "e1020e75-0d9f-465d-9214-48b7a96f07e6",
   "metadata": {
    "collapsed": true,
    "jupyter": {
     "outputs_hidden": true
    },
    "tags": []
   },
   "outputs": [
    {
     "name": "stdout",
     "output_type": "stream",
     "text": [
      "&#945;-Keratin {n}\n",
      "&#945;-Lactalbumin {n} <&#945;-La>\n",
      "&#946;-Mercaptoethanol {n}\n",
      "'Nduja {f} [auch: Nduja]\n",
      "(4) Vesta {f}\n",
      "(3122) Florence [Substantiv ohne Artikel] [ersatzweise: der Asteroid (3122) Florence]\n",
      "(3200) Phaethon {m}\n",
      "(90377) Sedna {f} {m}\n",
      "(101955) Bennu [Substantiv ohne Artikel] [ersatzweise: der Asteroid (101955) Bennu]\n",
      "(136108) Haumea {f}\n"
     ]
    }
   ],
   "source": [
    "# Ziel: Just one word and a pronoun\n",
    "# Outcome: A convenient pattern emerged.\n",
    "count = 0\n",
    "for i in df_noun['german']:\n",
    "    print(i)\n",
    "    count += 1\n",
    "    if count >= 10:\n",
    "        break"
   ]
  },
  {
   "cell_type": "markdown",
   "id": "4e7e194c-ba09-4c7f-8244-88eb37aa8af2",
   "metadata": {},
   "source": [
    "After examining the first 10k lines, it is clear that *plenty* nouns are in the form of string that contains: 1 upper case character, $n$ number of consequent lower case characters, a space, one of 'm', 'f' and 'n' characters in curly brackets e.g. 'Verantwortung {f}'"
   ]
  },
  {
   "cell_type": "code",
   "execution_count": 19,
   "id": "b9bedada-d428-4392-b7b3-0f9cfa99aee5",
   "metadata": {
    "tags": []
   },
   "outputs": [
    {
     "name": "stdout",
     "output_type": "stream",
     "text": [
      "Type: <class 'str'>\n",
      "There is!\n",
      "Type: <class 'str'>\n",
      "There is!\n",
      "Type: <class 'str'>\n",
      "There is!\n"
     ]
    }
   ],
   "source": [
    "# Let us find the abovementioned word.\n",
    "# Three times in a row!\n",
    "for noun in df_noun['german']:\n",
    "    if noun == 'Verantwortung {f}':\n",
    "        print('Type:', type(noun))\n",
    "        print('There is!')"
   ]
  },
  {
   "cell_type": "code",
   "execution_count": 21,
   "id": "e73bece3-95e5-4b6e-bda2-2dc019a3cdbb",
   "metadata": {
    "tags": []
   },
   "outputs": [
    {
     "name": "stdout",
     "output_type": "stream",
     "text": [
      "Number of entries: 394760\n"
     ]
    },
    {
     "data": {
      "text/html": [
       "<div>\n",
       "<style scoped>\n",
       "    .dataframe tbody tr th:only-of-type {\n",
       "        vertical-align: middle;\n",
       "    }\n",
       "\n",
       "    .dataframe tbody tr th {\n",
       "        vertical-align: top;\n",
       "    }\n",
       "\n",
       "    .dataframe thead th {\n",
       "        text-align: right;\n",
       "    }\n",
       "</style>\n",
       "<table border=\"1\" class=\"dataframe\">\n",
       "  <thead>\n",
       "    <tr style=\"text-align: right;\">\n",
       "      <th></th>\n",
       "      <th>german</th>\n",
       "      <th>english</th>\n",
       "      <th>part_of_speech</th>\n",
       "      <th>der_Bereich</th>\n",
       "    </tr>\n",
       "  </thead>\n",
       "  <tbody>\n",
       "    <tr>\n",
       "      <th>8788</th>\n",
       "      <td>Aachen {n}</td>\n",
       "      <td>Aachen</td>\n",
       "      <td>noun</td>\n",
       "      <td>[geogr.]</td>\n",
       "    </tr>\n",
       "    <tr>\n",
       "      <th>8789</th>\n",
       "      <td>Aachen {n}</td>\n",
       "      <td>Aix-la-Chapelle</td>\n",
       "      <td>noun</td>\n",
       "      <td>[geogr.]</td>\n",
       "    </tr>\n",
       "    <tr>\n",
       "      <th>8799</th>\n",
       "      <td>Aakerbeere {f}</td>\n",
       "      <td>Arctic raspberry [Rubus arcticus]</td>\n",
       "      <td>noun</td>\n",
       "      <td>[bot.] [T]</td>\n",
       "    </tr>\n",
       "    <tr>\n",
       "      <th>8804</th>\n",
       "      <td>Aalabstieg {m}</td>\n",
       "      <td>downstream eel migration</td>\n",
       "      <td>noun</td>\n",
       "      <td>[biol.] [fish]</td>\n",
       "    </tr>\n",
       "    <tr>\n",
       "      <th>8805</th>\n",
       "      <td>Aalangeln {n}</td>\n",
       "      <td>sniggling eels</td>\n",
       "      <td>noun</td>\n",
       "      <td>[fish]</td>\n",
       "    </tr>\n",
       "    <tr>\n",
       "      <th>...</th>\n",
       "      <td>...</td>\n",
       "      <td>...</td>\n",
       "      <td>...</td>\n",
       "      <td>...</td>\n",
       "    </tr>\n",
       "    <tr>\n",
       "      <th>9350</th>\n",
       "      <td>Abbauort {m}</td>\n",
       "      <td>stope</td>\n",
       "      <td>noun</td>\n",
       "      <td>[mining]</td>\n",
       "    </tr>\n",
       "    <tr>\n",
       "      <th>9351</th>\n",
       "      <td>Abbauprodukt {n}</td>\n",
       "      <td>breakdown product</td>\n",
       "      <td>noun</td>\n",
       "      <td>[biochem.] [chem.]</td>\n",
       "    </tr>\n",
       "    <tr>\n",
       "      <th>9352</th>\n",
       "      <td>Abbauprodukt {n}</td>\n",
       "      <td>by-product</td>\n",
       "      <td>noun</td>\n",
       "      <td>[chem.]</td>\n",
       "    </tr>\n",
       "    <tr>\n",
       "      <th>9353</th>\n",
       "      <td>Abbauprodukt {n}</td>\n",
       "      <td>decomposition product</td>\n",
       "      <td>noun</td>\n",
       "      <td>[chem.]</td>\n",
       "    </tr>\n",
       "    <tr>\n",
       "      <th>9354</th>\n",
       "      <td>Abbauprodukt {n}</td>\n",
       "      <td>degradation product</td>\n",
       "      <td>noun</td>\n",
       "      <td>[ecol.]</td>\n",
       "    </tr>\n",
       "  </tbody>\n",
       "</table>\n",
       "<p>200 rows × 4 columns</p>\n",
       "</div>"
      ],
      "text/plain": [
       "                german                            english part_of_speech  \\\n",
       "8788        Aachen {n}                             Aachen           noun   \n",
       "8789        Aachen {n}                    Aix-la-Chapelle           noun   \n",
       "8799    Aakerbeere {f}  Arctic raspberry [Rubus arcticus]           noun   \n",
       "8804    Aalabstieg {m}           downstream eel migration           noun   \n",
       "8805     Aalangeln {n}                     sniggling eels           noun   \n",
       "...                ...                                ...            ...   \n",
       "9350      Abbauort {m}                              stope           noun   \n",
       "9351  Abbauprodukt {n}                  breakdown product           noun   \n",
       "9352  Abbauprodukt {n}                         by-product           noun   \n",
       "9353  Abbauprodukt {n}              decomposition product           noun   \n",
       "9354  Abbauprodukt {n}                degradation product           noun   \n",
       "\n",
       "              der_Bereich  \n",
       "8788            [geogr.]   \n",
       "8789            [geogr.]   \n",
       "8799          [bot.] [T]   \n",
       "8804      [biol.] [fish]   \n",
       "8805              [fish]   \n",
       "...                   ...  \n",
       "9350            [mining]   \n",
       "9351  [biochem.] [chem.]   \n",
       "9352             [chem.]   \n",
       "9353             [chem.]   \n",
       "9354             [ecol.]   \n",
       "\n",
       "[200 rows x 4 columns]"
      ]
     },
     "execution_count": 21,
     "metadata": {},
     "output_type": "execute_result"
    }
   ],
   "source": [
    "# Filter the column where this pattern occurs: <upper_case_letter>, <n_number_of_lowe_case_letters>, <a_space>, <open_curly_bracket>, <either m, f or n>, <close_curly bracket>\n",
    "# *entering this to ChatGPT*\n",
    "# Learning str.match() and the pattern to match.\n",
    "pattern = r\"^[A-Z][a-z]+\\s\\{[mfn]\\}$\"\n",
    "# Filter the data based on pattern.\n",
    "df_filt = df_noun[df_noun['german'].str.match(pattern)]\n",
    "print(f'Number of entries: {df_filt.shape[0]}')\n",
    "df_filt.head(200)"
   ]
  },
  {
   "cell_type": "code",
   "execution_count": 58,
   "id": "4314a476-a730-420e-875d-10acb9264fff",
   "metadata": {},
   "outputs": [
    {
     "name": "stdout",
     "output_type": "stream",
     "text": [
      "Final size: 253715\n"
     ]
    },
    {
     "data": {
      "text/html": [
       "<div>\n",
       "<style scoped>\n",
       "    .dataframe tbody tr th:only-of-type {\n",
       "        vertical-align: middle;\n",
       "    }\n",
       "\n",
       "    .dataframe tbody tr th {\n",
       "        vertical-align: top;\n",
       "    }\n",
       "\n",
       "    .dataframe thead th {\n",
       "        text-align: right;\n",
       "    }\n",
       "</style>\n",
       "<table border=\"1\" class=\"dataframe\">\n",
       "  <thead>\n",
       "    <tr style=\"text-align: right;\">\n",
       "      <th></th>\n",
       "      <th>german</th>\n",
       "      <th>english</th>\n",
       "      <th>part_of_speech</th>\n",
       "      <th>der_Bereich</th>\n",
       "    </tr>\n",
       "  </thead>\n",
       "  <tbody>\n",
       "    <tr>\n",
       "      <th>8788</th>\n",
       "      <td>Aachen {n}</td>\n",
       "      <td>Aachen</td>\n",
       "      <td>noun</td>\n",
       "      <td>[geogr.]</td>\n",
       "    </tr>\n",
       "    <tr>\n",
       "      <th>8799</th>\n",
       "      <td>Aakerbeere {f}</td>\n",
       "      <td>Arctic raspberry [Rubus arcticus]</td>\n",
       "      <td>noun</td>\n",
       "      <td>[bot.] [T]</td>\n",
       "    </tr>\n",
       "    <tr>\n",
       "      <th>8804</th>\n",
       "      <td>Aalabstieg {m}</td>\n",
       "      <td>downstream eel migration</td>\n",
       "      <td>noun</td>\n",
       "      <td>[biol.] [fish]</td>\n",
       "    </tr>\n",
       "    <tr>\n",
       "      <th>8805</th>\n",
       "      <td>Aalangeln {n}</td>\n",
       "      <td>sniggling eels</td>\n",
       "      <td>noun</td>\n",
       "      <td>[fish]</td>\n",
       "    </tr>\n",
       "    <tr>\n",
       "      <th>8810</th>\n",
       "      <td>Aalart {f}</td>\n",
       "      <td>eel species</td>\n",
       "      <td>noun</td>\n",
       "      <td>[fish]</td>\n",
       "    </tr>\n",
       "    <tr>\n",
       "      <th>...</th>\n",
       "      <td>...</td>\n",
       "      <td>...</td>\n",
       "      <td>...</td>\n",
       "      <td>...</td>\n",
       "    </tr>\n",
       "    <tr>\n",
       "      <th>9654</th>\n",
       "      <td>Abbildungsrand {m}</td>\n",
       "      <td>edge of the image</td>\n",
       "      <td>noun</td>\n",
       "      <td></td>\n",
       "    </tr>\n",
       "    <tr>\n",
       "      <th>9655</th>\n",
       "      <td>Abbildungsregister {n}</td>\n",
       "      <td>image register</td>\n",
       "      <td>noun</td>\n",
       "      <td></td>\n",
       "    </tr>\n",
       "    <tr>\n",
       "      <th>9656</th>\n",
       "      <td>Abbildungssatz {m}</td>\n",
       "      <td>mapping theorem</td>\n",
       "      <td>noun</td>\n",
       "      <td>[math.]</td>\n",
       "    </tr>\n",
       "    <tr>\n",
       "      <th>9659</th>\n",
       "      <td>Abbildungsspeicherung {f}</td>\n",
       "      <td>image storage</td>\n",
       "      <td>noun</td>\n",
       "      <td></td>\n",
       "    </tr>\n",
       "    <tr>\n",
       "      <th>9660</th>\n",
       "      <td>Abbildungssystem {n}</td>\n",
       "      <td>imaging system</td>\n",
       "      <td>noun</td>\n",
       "      <td>[MedTech.]</td>\n",
       "    </tr>\n",
       "  </tbody>\n",
       "</table>\n",
       "<p>200 rows × 4 columns</p>\n",
       "</div>"
      ],
      "text/plain": [
       "                         german                            english  \\\n",
       "8788                 Aachen {n}                             Aachen   \n",
       "8799             Aakerbeere {f}  Arctic raspberry [Rubus arcticus]   \n",
       "8804             Aalabstieg {m}           downstream eel migration   \n",
       "8805              Aalangeln {n}                     sniggling eels   \n",
       "8810                 Aalart {f}                        eel species   \n",
       "...                         ...                                ...   \n",
       "9654         Abbildungsrand {m}                  edge of the image   \n",
       "9655     Abbildungsregister {n}                     image register   \n",
       "9656         Abbildungssatz {m}                    mapping theorem   \n",
       "9659  Abbildungsspeicherung {f}                      image storage   \n",
       "9660       Abbildungssystem {n}                     imaging system   \n",
       "\n",
       "     part_of_speech      der_Bereich  \n",
       "8788           noun        [geogr.]   \n",
       "8799           noun      [bot.] [T]   \n",
       "8804           noun  [biol.] [fish]   \n",
       "8805           noun          [fish]   \n",
       "8810           noun          [fish]   \n",
       "...             ...              ...  \n",
       "9654           noun                   \n",
       "9655           noun                   \n",
       "9656           noun         [math.]   \n",
       "9659           noun                   \n",
       "9660           noun      [MedTech.]   \n",
       "\n",
       "[200 rows x 4 columns]"
      ]
     },
     "execution_count": 58,
     "metadata": {},
     "output_type": "execute_result"
    }
   ],
   "source": [
    "# It is clear that there are multiple occurences of certain strings, so filter for unique elements.\n",
    "# This is how a pro blackboxer gets rid of 'duplicates'... isn't Verantvortung... I mean, DIE Verantvortung a triplicate?\n",
    "df_filt = df_filt.drop_duplicates(subset=['german'])\n",
    "print(f\"Final size: {df_filt['german'].unique().size}\")\n",
    "df_filt.head(200)"
   ]
  },
  {
   "cell_type": "code",
   "execution_count": 65,
   "id": "c32193d3",
   "metadata": {},
   "outputs": [
    {
     "data": {
      "text/html": [
       "<div>\n",
       "<style scoped>\n",
       "    .dataframe tbody tr th:only-of-type {\n",
       "        vertical-align: middle;\n",
       "    }\n",
       "\n",
       "    .dataframe tbody tr th {\n",
       "        vertical-align: top;\n",
       "    }\n",
       "\n",
       "    .dataframe thead th {\n",
       "        text-align: right;\n",
       "    }\n",
       "</style>\n",
       "<table border=\"1\" class=\"dataframe\">\n",
       "  <thead>\n",
       "    <tr style=\"text-align: right;\">\n",
       "      <th></th>\n",
       "      <th>das_wort</th>\n",
       "      <th>die_artikel</th>\n",
       "    </tr>\n",
       "  </thead>\n",
       "  <tbody>\n",
       "    <tr>\n",
       "      <th>0</th>\n",
       "      <td>aachen</td>\n",
       "      <td>n</td>\n",
       "    </tr>\n",
       "    <tr>\n",
       "      <th>1</th>\n",
       "      <td>aakerbeere</td>\n",
       "      <td>f</td>\n",
       "    </tr>\n",
       "    <tr>\n",
       "      <th>2</th>\n",
       "      <td>aalabstieg</td>\n",
       "      <td>m</td>\n",
       "    </tr>\n",
       "    <tr>\n",
       "      <th>3</th>\n",
       "      <td>aalangeln</td>\n",
       "      <td>n</td>\n",
       "    </tr>\n",
       "    <tr>\n",
       "      <th>4</th>\n",
       "      <td>aalart</td>\n",
       "      <td>f</td>\n",
       "    </tr>\n",
       "  </tbody>\n",
       "</table>\n",
       "</div>"
      ],
      "text/plain": [
       "     das_wort die_artikel\n",
       "0      aachen           n\n",
       "1  aakerbeere           f\n",
       "2  aalabstieg           m\n",
       "3   aalangeln           n\n",
       "4      aalart           f"
      ]
     },
     "execution_count": 65,
     "metadata": {},
     "output_type": "execute_result"
    }
   ],
   "source": [
    "# Create a dataframe with two cols, word and gender... Or, let it be das_Wort and die_Artikel.\n",
    "# Oh! And now put away any sensitivity regarding to case, because we go lower..\n",
    "data2 = [noun_str.lower().split(' ') for noun_str in df_filt['german']]\n",
    "\n",
    "# *ChatGPT generates stuff*\n",
    "df_final = pd.DataFrame(data2, columns=['das_wort', 'die_artikel'])\n",
    "\n",
    "# Remove curly brackets\n",
    "# Example for .strip() - txt = \",,,,,rrttgg.....banana....rrr\" NEWLINE x = txt.strip(\",.grt\") result is \"banana\". It removes specific leading and trailing characters.\n",
    "df_final['die_artikel'] = df_final['die_artikel'].apply(lambda x: x.strip('{}')) # x[1] also work...\n",
    "\n",
    "df_final.head(5)"
   ]
  },
  {
   "cell_type": "code",
   "execution_count": 66,
   "id": "8341c73e",
   "metadata": {
    "jupyter": {
     "source_hidden": true
    },
    "tags": []
   },
   "outputs": [
    {
     "name": "stdout",
     "output_type": "stream",
     "text": [
      "Number of words in the current dataset: 253715\n"
     ]
    },
    {
     "data": {
      "image/png": "[encoded data removed]",
      "text/plain": [
       "<Figure size 600x600 with 1 Axes>"
      ]
     },
     "metadata": {},
     "output_type": "display_data"
    }
   ],
   "source": [
    "# Display the distribution of words on a piechart by ChatGPT\n",
    "# Map labels and colors \n",
    "label_map = {'m': 'der', 'f': 'die', 'n': 'das'}\n",
    "color_map = {'der': 'forestgreen', 'die': 'firebrick', 'das': 'darkorange'}\n",
    "# Count occurrences of each unique value in column 'die_artikel'\n",
    "value_counts = df_final['die_artikel'].map(label_map).value_counts()\n",
    "\n",
    "print(f\"Number of words in the current dataset: {df_filt['german'].nunique()}\")\n",
    "\n",
    "# Plot pie chart \n",
    "plt.figure(figsize=(6, 6))\n",
    "plt.pie(\n",
    "    value_counts,\n",
    "    labels=value_counts.index,\n",
    "    autopct='%1.1f%%',\n",
    "    colors=[color_map[label] for label in value_counts.index],\n",
    "    startangle=140\n",
    ")\n",
    "plt.title('Distribution of Gendered Articles')\n",
    "plt.show()\n"
   ]
  },
  {
   "cell_type": "markdown",
   "id": "7256edf5",
   "metadata": {},
   "source": [
    "Milestone reached. "
   ]
  },
  {
   "cell_type": "markdown",
   "id": "9230681e-1cff-429a-a173-3b69a03d256c",
   "metadata": {},
   "source": [
    "### Word examination "
   ]
  },
  {
   "cell_type": "markdown",
   "id": "4da41c3d-c9e3-4bb6-b15a-9a9ab848518c",
   "metadata": {},
   "source": [
    "The next step is dataset kennenlernen. Here is a ToDo list:\n",
    "- Write a function that creates a smaller dataset with 42k entries. In the new set all genders should be represented equally. Explain the difference between a balanced and an unbalanced dataset and the connection to machine learning.\n",
    "- Collect unique characters from the dataset and visualize their occurences e.g. on a histogram. \n",
    "- Collect the length of words. Visualize them e.g. histogram and boxplot. Compare mean and median values. Check for outliers and print three of the long ones. Translate them and describe how you feel about them. \n",
    "- Create a 2D scatterplot where one axis represents the length of word and the other represents the number unique characters in the word. Color the plot according to genders. Describe observations and draw conclusion.\n",
    "- Discuss the tow ways GermanWithLaura recommends to predict word genders. Choose the one suitable for the current situation. Using the rules described in the article, write a function that suggests a gender for the words."
   ]
  },
  {
   "cell_type": "markdown",
   "id": "61bd5643-2b29-4102-a337-a99217a08bb2",
   "metadata": {},
   "source": [
    "In machine learning imbalanced datasets should be handled with care. If one of the classes is underrepresented in the data used for training, the model subject to training, could fail to learn the characteristics of the underrepresented class. If the model is intended to assign labels to datapoints which belong to different classes with the same *accuracy*, then a balanced dataset (i.e. equally represented classes) is needed.<br>\n",
    "Accuracy is the number of correct predictions divided by the number of all predictions. In the case of unbalanced datasets the accuracy metric for model 'goodness' evaluation should be used with caution. Accuracy is blind to how the model performs in specific class cases. e.g. size: 100, class_a: 99, class_b: 1, model learns class_a well, and predicts all data to be part of class_a. Despite of the fact that the model is unable to correctly assign elements to class_a, it's accuracy would still be 99%.<br>\n",
    "In this specific case the question is if we want the model to predict der, die and das with a similar precision or we would like the model to correcty assign genders to words as many times as possible. "
   ]
  },
  {
   "cell_type": "code",
   "execution_count": 6,
   "id": "6b7db7d3-d33a-48db-a17d-b17610939671",
   "metadata": {
    "tags": []
   },
   "outputs": [],
   "source": [
    "from clean_data import Clean_Data\n",
    "import pandas as pd"
   ]
  },
  {
   "cell_type": "code",
   "execution_count": 7,
   "id": "673771d0-bd50-4bea-89a9-3cfe0b0ecb8f",
   "metadata": {
    "tags": []
   },
   "outputs": [],
   "source": [
    "a = Clean_Data('de_en_vocab_data.txt')"
   ]
  },
  {
   "cell_type": "code",
   "execution_count": 3,
   "id": "a4d0d71c-c759-4ee8-ae86-1e94cfcc3803",
   "metadata": {
    "tags": []
   },
   "outputs": [],
   "source": [
    "df = a.getNouns()"
   ]
  },
  {
   "cell_type": "code",
   "execution_count": 4,
   "id": "b8e16873-3983-442e-b457-ee4debffe875",
   "metadata": {
    "tags": []
   },
   "outputs": [
    {
     "data": {
      "text/html": [
       "<div>\n",
       "<style scoped>\n",
       "    .dataframe tbody tr th:only-of-type {\n",
       "        vertical-align: middle;\n",
       "    }\n",
       "\n",
       "    .dataframe tbody tr th {\n",
       "        vertical-align: top;\n",
       "    }\n",
       "\n",
       "    .dataframe thead th {\n",
       "        text-align: right;\n",
       "    }\n",
       "</style>\n",
       "<table border=\"1\" class=\"dataframe\">\n",
       "  <thead>\n",
       "    <tr style=\"text-align: right;\">\n",
       "      <th></th>\n",
       "      <th>das_wort</th>\n",
       "      <th>die_artikel</th>\n",
       "    </tr>\n",
       "  </thead>\n",
       "  <tbody>\n",
       "  </tbody>\n",
       "</table>\n",
       "</div>"
      ],
      "text/plain": [
       "Empty DataFrame\n",
       "Columns: [das_wort, die_artikel]\n",
       "Index: []"
      ]
     },
     "execution_count": 4,
     "metadata": {},
     "output_type": "execute_result"
    }
   ],
   "source": [
    "df.head(5)"
   ]
  }
 ],
 "metadata": {
  "kernelspec": {
   "display_name": "Python 3 (ipykernel)",
   "language": "python",
   "name": "python3"
  },
  "language_info": {
   "codemirror_mode": {
    "name": "ipython",
    "version": 3
   },
   "file_extension": ".py",
   "mimetype": "text/x-python",
   "name": "python",
   "nbconvert_exporter": "python",
   "pygments_lexer": "ipython3",
   "version": "3.11.10"
  }
 },
 "nbformat": 4,
 "nbformat_minor": 5
}
