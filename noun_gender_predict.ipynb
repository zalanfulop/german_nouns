{
 "cells": [
  {
   "cell_type": "code",
   "execution_count": 1,
   "id": "a8a20576-1bd0-4faa-b77d-731b4e0bd356",
   "metadata": {
    "tags": []
   },
   "outputs": [],
   "source": [
    "# 2024.10.27"
   ]
  },
  {
   "cell_type": "markdown",
   "id": "204d8cd6-bfef-47aa-ac04-f678b6302b3d",
   "metadata": {
    "tags": []
   },
   "source": [
    "### Project description\n",
    "Welcome my latests project. Here, the goal is to predict the gender of german nouns based with a machine learning model. is it possible to find a relation between the structure of textual information and the gender of the word it represents? <br>\n",
    "To clarify the work's raison d'être, I answer Kipling's Six Honest Questions below. (Descriptions are provided by the built-in AI assistant in Brave's search engine.)\n",
    "- **Who?** - *Identifying the individuals or entities involved in a situation or event.* - This is a solo project, so I am responsible to reach project-goals. I also need an entity, that acts as the **source of data** and one which equips me with **up-to-date knowledge**.\n",
    "- **What?** - *Describing the actions, events, or circumstances being observed or experienced.* - widen perspective by reading $n$ articles, set time constraints and befriend them, experience from start to finish, an Aha! moment, vocabulary increase, born of a tool and/or educational material.\n",
    "- **When?** - *Determining the timing or sequence of events.* - **Research** on the topic (read *articles* on german noun *articles*). Identify the requirements related to the **structure and quantity of data**. Consider different sources, **acquire a dataset** and describe the reason for decision. Define how the data is being **stored and accessed**. Study and try multiple **word-representation** methods. Consider machine-learning solutions to find the most suited for **classification** of datapoints. Describe observations and **conclusions** (performance metrics, linguistic relation). Explain possible **improvements** and **future directions**. A span of next five workdays (presentation on Friday).\n",
    "- **Where?** - *Locating the the setting or context in which events occur.* - German language learning. *Abstract representation of natural language.* Application of machine learning solutions. Hobby horse. Portfolio. \n",
    "- **Why?** - *Exploring the reasons or motivations behind actions or events.* - To learn how language can be represented in the area of NLP. To discover unseen relations between words and their articles. To learn the language on the go. To practice retrieving, storing, cleaning and processing data. Zu genießen.\n",
    "- **How?** - *Investigating the methods or processes used to achieve a particular outcome.* - Linux and anaconda environments. Git and GitHub. Python, Bash script and SQL. VSCode, Jupyter Lab. \n",
    "\n",
    "..."
   ]
  },
  {
   "cell_type": "markdown",
   "id": "0f732122-a7cc-49b7-901f-8b4c5d5f96fe",
   "metadata": {
    "jupyter": {
     "source_hidden": true
    },
    "tags": []
   },
   "source": [
    "<div style=\"text-align: center; font-weight: bold; font-size: 1.5em;\">\n",
    "    I Keep Six Honest Serving Men\n",
    "    <br><br>\n",
    "</div>\n",
    "\n",
    "<div style=\"text-align: center; font-style: italic;\">\n",
    "    I KEEP six honest serving-men<br>\n",
    "    (They taught me all I knew);<br>\n",
    "    Their names are What and Why and When<br>\n",
    "    And How and Where and Who.<br>\n",
    "    I send them over land and sea,<br>\n",
    "    I send them east and west;<br>\n",
    "    But after they have worked for me,<br>\n",
    "    I give them all a rest.<br><br>\n",
    "    I let them rest from nine till five,<br>\n",
    "    For I am busy then,<br>\n",
    "    As well as breakfast, lunch, and tea,<br>\n",
    "    For they are hungry men.<br>\n",
    "    But different folk have different views;<br>\n",
    "    I know a person small—<br>\n",
    "    She keeps ten million serving-men,<br>\n",
    "    Who get no rest at all!<br><br>\n",
    "    She sends ’em abroad on her own affairs,<br>\n",
    "    From the second she opens her eyes—<br>\n",
    "    One million Hows, two million Wheres,<br>\n",
    "    And seven million Whys!<br><br>\n",
    "</div>\n",
    "\n",
    "<div style=\"text-align: right; font-weight: bold; font-style: italic;\">\n",
    "    Rudyard Kipling\n",
    "</div>\n"
   ]
  },
  {
   "cell_type": "markdown",
   "id": "698d8acb-0bb5-495f-bc82-c47f3c2c7adc",
   "metadata": {},
   "source": [
    "#### Research on german nouns and their articles\n",
    "Every noun has been assigned a gender: feminine, masculine and neutral. \n",
    "https://www.thegermanproject.com/german-lessons/nouns<br>\n",
    "The article says that: \"unfortunately, there aren't too many rules that determine which kinds of words will have which genders\".<br>\n",
    "https://germanwithlaura.com/noun-gender/<br>\n",
    "The states in the beginning: \"Well, what if I tell you that there are actually tips and tricks to help you accurately predict the gender of any noun a good 80% of the time?\". Well, if I can predict the genders with 80% accuracy then I want to build a model which tops that. \"...based on... ready for this?... how the word is spelled.\" Oh! Right? I might be creative to represent the spelling of words! \"The gender of almost any German noun is determined by its form - especially *suffixes*, which are little endings such as -at, -ion, -ung, -ig, -um, and more.\" I am telling you that these are features a model could consider!<br>\n",
    "\"Nouns can be lumped together according to: 1. Noun groups (specific topic groups associated with particular genders) e.g. all months of the year are masculine 2. Noun forms (specific spelling patterns associated with particular genders) e.g. all nouns ending in -ung are feminine.\"<br> Is it possible to *cluster words* based on their relation to topics? Is it possible for a model to have a set of word representations where related words have similar representation in a sense (along a feature)? <br> I also realized that spelling is not pronunciation... this makes me optimistic about sufficent information content of word-abstraction.<br>\n",
    "The article lists noun-groups associated with each gender."
   ]
  }
 ],
 "metadata": {
  "kernelspec": {
   "display_name": "Python 3 (ipykernel)",
   "language": "python",
   "name": "python3"
  },
  "language_info": {
   "codemirror_mode": {
    "name": "ipython",
    "version": 3
   },
   "file_extension": ".py",
   "mimetype": "text/x-python",
   "name": "python",
   "nbconvert_exporter": "python",
   "pygments_lexer": "ipython3",
   "version": "3.11.10"
  }
 },
 "nbformat": 4,
 "nbformat_minor": 5
}
